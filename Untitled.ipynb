{
 "cells": [
  {
   "cell_type": "code",
   "execution_count": 1,
   "metadata": {},
   "outputs": [],
   "source": [
    "from pyspark import SparkContext \n",
    "from operator import add\n",
    "\n",
    "sc = SparkContext()"
   ]
  },
  {
   "cell_type": "code",
   "execution_count": 2,
   "metadata": {},
   "outputs": [
    {
     "data": {
      "text/plain": [
       "[(':person_facepalming:', -1),\n",
       " (':person_shrugging:', -1),\n",
       " (':backhand_index_pointing_down:', 0),\n",
       " (':female_sign:', 0),\n",
       " (':face_with_tears_of_joy:', -1),\n",
       " (':red_heart:', 1),\n",
       " (':party_popper:', 1)]"
      ]
     },
     "execution_count": 2,
     "metadata": {},
     "output_type": "execute_result"
    }
   ],
   "source": [
    "x = sc.parallelize([(':red_heart:', 1),\n",
    " (':person_shrugging:', -1),\n",
    " (':female_sign:', 0),\n",
    " (':face_with_tears_of_joy:', 1),\n",
    " (':face_with_tears_of_joy:', -1),\n",
    " (':face_with_tears_of_joy:', -1),\n",
    " (':backhand_index_pointing_down:', 1),\n",
    " (':party_popper:', 1),\n",
    " (':backhand_index_pointing_down:', -1),\n",
    " (':person_facepalming:', -1)])\n",
    "\n",
    "x.reduceByKey(add).collect()"
   ]
  }
 ],
 "metadata": {
  "kernelspec": {
   "display_name": "Python 3",
   "language": "python",
   "name": "python3"
  },
  "language_info": {
   "codemirror_mode": {
    "name": "ipython",
    "version": 3
   },
   "file_extension": ".py",
   "mimetype": "text/x-python",
   "name": "python",
   "nbconvert_exporter": "python",
   "pygments_lexer": "ipython3",
   "version": "3.7.4"
  }
 },
 "nbformat": 4,
 "nbformat_minor": 2
}
