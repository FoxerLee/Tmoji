{
 "cells": [
  {
   "cell_type": "code",
   "execution_count": 1,
   "metadata": {},
   "outputs": [],
   "source": [
    "from pymongo import MongoClient\n",
    "from pyspark import SparkContext\n",
    "from pyspark.sql import SparkSession\n",
    "import pyspark.sql.functions as F"
   ]
  },
  {
   "cell_type": "code",
   "execution_count": 2,
   "metadata": {},
   "outputs": [],
   "source": [
    "spark = SparkSession \\\n",
    "    .builder \\\n",
    "    .appName(\"myApp\") \\\n",
    "    .config(\"spark.mongodb.input.uri\", \"mongodb://127.0.0.1/bigdata.raw\") \\\n",
    "    .config(\"spark.mongodb.output.uri\", \"mongodb://127.0.0.1/bigdata.raw\") \\\n",
    "    .config('spark.jars.packages', 'org.mongodb.spark:mongo-spark-connector_2.11:2.3.1')\\\n",
    "    .getOrCreate()"
   ]
  },
  {
   "cell_type": "code",
   "execution_count": 3,
   "metadata": {},
   "outputs": [],
   "source": [
    "df = spark.read.format(\"com.mongodb.spark.sql.DefaultSource\").load()"
   ]
  },
  {
   "cell_type": "code",
   "execution_count": 4,
   "metadata": {},
   "outputs": [
    {
     "name": "stdout",
     "output_type": "stream",
     "text": [
      "+--------------------+--------------------+\n",
      "|               emoji|            sentence|\n",
      "+--------------------+--------------------+\n",
      "|      :red_heart:,18|No object is so b...|\n",
      "|:person_shrugging...|Cant expect diffe...|\n",
      "|:face_with_tears_...|“ Lets go Marcus ...|\n",
      "|:face_with_tears_...|Asahd really is a...|\n",
      "|:face_with_tears_...|Yoongi Tweet Hell...|\n",
      "|:backhand_index_p...|we cannot afford ...|\n",
      "|:party_popper:,8 ...|ranks 6th in Janu...|\n",
      "|:person_facepalmi...|Ok people are rea...|\n",
      "|:smiling_face_wit...|Cant wait to meet...|\n",
      "| :clapping_hands:,11|Congratulations M...|\n",
      "|:face_with_tears_...|Met orlando brown...|\n",
      "|      :weary_face:,4|Im goin to bed :w...|\n",
      "|  :clapping_hands:,9|Will and Jada on ...|\n",
      "|:person_shrugging...|EVERYBODY is preg...|\n",
      "|       :male_sign:,8|I promise to fuck...|\n",
      "|    :folded_hands:,3|God keep working ...|\n",
      "|    :party_popper:,4|Happy Birthday to...|\n",
      "|  :hundred_points:,8|Over 3M Dollars i...|\n",
      "|:loudly_crying_fa...|I be considering ...|\n",
      "|:rolling_on_the_f...|My teacher gave s...|\n",
      "+--------------------+--------------------+\n",
      "only showing top 20 rows\n",
      "\n"
     ]
    }
   ],
   "source": [
    "df = df.select(\"emoji\", \"sentence\")\n",
    "df.show()"
   ]
  },
  {
   "cell_type": "code",
   "execution_count": null,
   "metadata": {},
   "outputs": [],
   "source": [
    "df.count()"
   ]
  },
  {
   "cell_type": "markdown",
   "metadata": {},
   "source": [
    "## Preprocessing"
   ]
  },
  {
   "cell_type": "code",
   "execution_count": 10,
   "metadata": {},
   "outputs": [],
   "source": [
    "def divide_emoji(x):\n",
    "    return x.split(\" \")\n",
    "\n",
    "def formed_(x):\n",
    "    result = []\n",
    "    for emoji in x[0]:\n",
    "        result.append([emoji, x[1]])\n",
    "    return result"
   ]
  },
  {
   "cell_type": "code",
   "execution_count": 11,
   "metadata": {},
   "outputs": [
    {
     "data": {
      "text/plain": [
       "[[':red_heart:,18',\n",
       "  'No object is so beautiful that under certain conditions it will not look ugly Oscar Wilde ↺ RT :red_heart: …'],\n",
       " [':person_shrugging:,13',\n",
       "  'Cant expect different results doing the same thingdoing stuff different from now on :person_shrugging: 🏻 \\u200d :female_sign: ️'],\n",
       " [':female_sign:,15',\n",
       "  'Cant expect different results doing the same thingdoing stuff different from now on :person_shrugging: 🏻 \\u200d :female_sign: ️'],\n",
       " [':face_with_tears_of_joy:,14',\n",
       "  '“ Lets go Marcus ” “ Shiiit where we goin Home ” Marcus Peters :face_with_tears_of_joy:'],\n",
       " [':face_with_tears_of_joy:,14',\n",
       "  'Asahd really is a grown man in the body of a 1 year old :face_with_tears_of_joy:']]"
      ]
     },
     "execution_count": 11,
     "metadata": {},
     "output_type": "execute_result"
    }
   ],
   "source": [
    "rdd = df.rdd.map(list)\n",
    "rdd = rdd.map(lambda x: (divide_emoji(x[0]), x[1]))\n",
    "rdd = rdd.flatMap(lambda x: formed_(x))\n",
    "rdd.take(5)"
   ]
  },
  {
   "cell_type": "code",
   "execution_count": 12,
   "metadata": {},
   "outputs": [],
   "source": [
    "def separate_emoji(x):\n",
    "    temp = x.split(',')\n",
    "    return temp[0]\n",
    "\n",
    "def separate_position(x):\n",
    "    temp = x.split(',')\n",
    "    return temp[1]"
   ]
  },
  {
   "cell_type": "code",
   "execution_count": 13,
   "metadata": {},
   "outputs": [
    {
     "data": {
      "text/plain": [
       "[(':red_heart:',\n",
       "  18,\n",
       "  'No object is so beautiful that under certain conditions it will not look ugly Oscar Wilde ↺ RT :red_heart: …'),\n",
       " (':person_shrugging:',\n",
       "  13,\n",
       "  'Cant expect different results doing the same thingdoing stuff different from now on :person_shrugging: 🏻 \\u200d :female_sign: ️'),\n",
       " (':female_sign:',\n",
       "  15,\n",
       "  'Cant expect different results doing the same thingdoing stuff different from now on :person_shrugging: 🏻 \\u200d :female_sign: ️'),\n",
       " (':face_with_tears_of_joy:',\n",
       "  14,\n",
       "  '“ Lets go Marcus ” “ Shiiit where we goin Home ” Marcus Peters :face_with_tears_of_joy:'),\n",
       " (':face_with_tears_of_joy:',\n",
       "  14,\n",
       "  'Asahd really is a grown man in the body of a 1 year old :face_with_tears_of_joy:')]"
      ]
     },
     "execution_count": 13,
     "metadata": {},
     "output_type": "execute_result"
    }
   ],
   "source": [
    "rdd = rdd.map(lambda x: (separate_emoji(x[0]), int(separate_position(x[0])), x[1]))\n",
    "rdd.take(5)"
   ]
  },
  {
   "cell_type": "markdown",
   "metadata": {},
   "source": [
    "## For every emoji, find the top 10 words appears mostwhen using the emoji."
   ]
  },
  {
   "cell_type": "code",
   "execution_count": 14,
   "metadata": {},
   "outputs": [],
   "source": [
    "def count_words(sentence):\n",
    "    sentence = sentence.split(' ')\n",
    "    words_frequency={}\n",
    "    for word in sentence:\n",
    "        word =''.join(ch for ch in word if ch.isalpha())\n",
    "        word = word.lower()\n",
    "        if word == '':\n",
    "            continue\n",
    "        if word in words_frequency:\n",
    "            words_frequency[word] += 1\n",
    "        else:\n",
    "            words_frequency[word] = 1\n",
    "    temp = list(words_frequency.items())\n",
    "    temp.sort(key = lambda x: x[1], reverse=True)\n",
    "    result = []\n",
    "    num_top_word = 10\n",
    "    if len(temp) < 10:\n",
    "        num_top_word = len(temp)\n",
    "    for i in range(num_top_word):\n",
    "        result.append(temp[i][0])\n",
    "    return result"
   ]
  },
  {
   "cell_type": "code",
   "execution_count": 15,
   "metadata": {},
   "outputs": [],
   "source": [
    "temp_rdd = rdd.map(lambda x: (x[0], x[2]))\n",
    "group_by_emoji = temp_rdd.groupBy(lambda x: x[0])"
   ]
  },
  {
   "cell_type": "code",
   "execution_count": 16,
   "metadata": {},
   "outputs": [],
   "source": [
    "operate_rdd = group_by_emoji.map(lambda x: (x[0], list(x[1])))\n",
    "# operate_rdd.take(1)"
   ]
  },
  {
   "cell_type": "code",
   "execution_count": 17,
   "metadata": {},
   "outputs": [],
   "source": [
    "def combine_string(x):\n",
    "    all_sentence = \"\"\n",
    "    for item in x:\n",
    "        sentence = item[1].split(item[0])\n",
    "        for word in sentence:\n",
    "            if word != item[0]:\n",
    "                all_sentence = all_sentence + word + \" \"\n",
    "    return all_sentence"
   ]
  },
  {
   "cell_type": "code",
   "execution_count": null,
   "metadata": {},
   "outputs": [],
   "source": [
    "combined = operate_rdd.map(lambda x: (x[0], combine_string(x[1])))\n",
    "result = combined.map(lambda x: (x[0], count_words(x[1])))\n",
    "result.take(1)"
   ]
  },
  {
   "cell_type": "markdown",
   "metadata": {},
   "source": [
    "## Find which emoji used most with words begin with letter A, B, C...Z (alphabet order)"
   ]
  },
  {
   "cell_type": "code",
   "execution_count": null,
   "metadata": {},
   "outputs": [],
   "source": [
    "def get_letter_stat(x):\n",
    "    letters = {}\n",
    "    words = x.split(' ')\n",
    "    for word in words:\n",
    "        word =''.join(ch for ch in word if ch.isalpha())\n",
    "        if word == '':\n",
    "            continue\n",
    "        word = word.lower()\n",
    "        if word[0] not in letters:\n",
    "            letters[word[0]] = 1\n",
    "        else:\n",
    "            letters[word[0]] += 1\n",
    "    temp = list(letters.items())\n",
    "    temp.sort(key = lambda x: x[1], reverse=True)\n",
    "    return temp[0]"
   ]
  },
  {
   "cell_type": "code",
   "execution_count": null,
   "metadata": {},
   "outputs": [],
   "source": [
    "top_letter_for_emoji = combined.map(lambda x: (x[0], get_letter_stat(x[1])))"
   ]
  },
  {
   "cell_type": "code",
   "execution_count": null,
   "metadata": {},
   "outputs": [],
   "source": [
    "def get_the_top(x):\n",
    "    x.sort(key = lambda x: x[1], reverse=True)\n",
    "    return x[0][0]"
   ]
  },
  {
   "cell_type": "code",
   "execution_count": null,
   "metadata": {},
   "outputs": [],
   "source": [
    "key_is_letter = top_letter_for_emoji.map(lambda x: (x[1][0], (x[0], x[1][1])))\n",
    "key_is_letter.take(3)"
   ]
  },
  {
   "cell_type": "code",
   "execution_count": null,
   "metadata": {},
   "outputs": [],
   "source": [
    "group_by_letter = key_is_letter.groupBy(lambda x: x[0]).map(lambda x: (x[0], list(x[1])))\n",
    "result_1 = group_by_letter.map(lambda x: (x[0], [row[1] for row in x[1]]))\n",
    "result_1 = result_1.map(lambda x: (x[0], get_the_top(x[1])))\n",
    "result_1.take(3)"
   ]
  },
  {
   "cell_type": "markdown",
   "metadata": {},
   "source": [
    "## Find the most pair-wise frequency words and emojis"
   ]
  },
  {
   "cell_type": "code",
   "execution_count": null,
   "metadata": {},
   "outputs": [],
   "source": [
    "def get_pair(x):\n",
    "    pos = x[1]\n",
    "    sentence = x[2]\n",
    "    words = sentence.split(' ')\n",
    "    word =''.join(ch for ch in words[pos-1] if ch.isalpha())\n",
    "    word = word.lower()\n",
    "    pair = (word, words[pos])\n",
    "    return pair\n",
    "\n",
    "def pair_frequency(x):\n",
    "    pair_freq = {}\n",
    "    emoji = x[0]\n",
    "    pairs = x[1]\n",
    "    for ele in pairs:\n",
    "        if ele[1] != emoji or ele[0]=='':\n",
    "            continue\n",
    "        if ele in pair_freq:\n",
    "            pair_freq[ele] += 1\n",
    "        else:\n",
    "            pair_freq[ele] = 1\n",
    "    result = list(pair_freq.items())\n",
    "    result.sort(key = lambda x: x[1], reverse=True)\n",
    "    return result"
   ]
  },
  {
   "cell_type": "code",
   "execution_count": null,
   "metadata": {},
   "outputs": [],
   "source": [
    "pairs = rdd.map(lambda x: (x[0], get_pair(x)))\n",
    "group_pairs = pairs.groupBy(lambda x: x[0])\n",
    "group_pairs = group_pairs.map(lambda x: (x[0], list(x[1])))\n",
    "temp = group_pairs.map(lambda x: (x[0], [row[1] for row in x[1]]))\n",
    "result_2 = temp.map(lambda x: (x[0], pair_frequency(x)))\n",
    "result_2.take(1)"
   ]
  },
  {
   "cell_type": "code",
   "execution_count": null,
   "metadata": {},
   "outputs": [],
   "source": []
  }
 ],
 "metadata": {
  "kernelspec": {
   "display_name": "Python 3",
   "language": "python",
   "name": "python3"
  },
  "language_info": {
   "codemirror_mode": {
    "name": "ipython",
    "version": 3
   },
   "file_extension": ".py",
   "mimetype": "text/x-python",
   "name": "python",
   "nbconvert_exporter": "python",
   "pygments_lexer": "ipython3",
   "version": "3.7.4"
  }
 },
 "nbformat": 4,
 "nbformat_minor": 2
}
