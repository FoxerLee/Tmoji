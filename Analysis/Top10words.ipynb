{
 "cells": [
  {
   "cell_type": "code",
   "execution_count": 1,
   "metadata": {},
   "outputs": [],
   "source": [
    "from pymongo import MongoClient\n",
    "from pyspark import SparkContext\n",
    "from pyspark.sql import SparkSession\n",
    "import pyspark.sql.functions as F"
   ]
  },
  {
   "cell_type": "code",
   "execution_count": 2,
   "metadata": {},
   "outputs": [],
   "source": [
    "spark = SparkSession \\\n",
    "    .builder \\\n",
    "    .appName(\"myApp\") \\\n",
    "    .config(\"spark.mongodb.input.uri\", \"mongodb://127.0.0.1/bigdata.raw\") \\\n",
    "    .config(\"spark.mongodb.output.uri\", \"mongodb://127.0.0.1/bigdata.top10Word\") \\\n",
    "    .config('spark.jars.packages', 'org.mongodb.spark:mongo-spark-connector_2.11:2.3.1')\\\n",
    "    .getOrCreate()"
   ]
  },
  {
   "cell_type": "code",
   "execution_count": 3,
   "metadata": {},
   "outputs": [],
   "source": [
    "df = spark.read.format(\"com.mongodb.spark.sql.DefaultSource\").load()"
   ]
  },
  {
   "cell_type": "code",
   "execution_count": 4,
   "metadata": {},
   "outputs": [],
   "source": [
    "df = df.select(\"emoji\", \"sentence\")"
   ]
  },
  {
   "cell_type": "markdown",
   "metadata": {},
   "source": [
    "### Preprocessing"
   ]
  },
  {
   "cell_type": "code",
   "execution_count": 5,
   "metadata": {},
   "outputs": [],
   "source": [
    "def divide_emoji(x):\n",
    "    return x.split(\" \")\n",
    "\n",
    "def formed_(x):\n",
    "    result = []\n",
    "    for emoji in x[0]:\n",
    "        result.append([emoji, x[1]])\n",
    "    return result"
   ]
  },
  {
   "cell_type": "code",
   "execution_count": 6,
   "metadata": {},
   "outputs": [
    {
     "data": {
      "text/plain": [
       "[[':sparkling_heart:,6', 'One of the things Ive waited :sparkling_heart:'],\n",
       " [':face_with_tears_of_joy:,13',\n",
       "  'This video must confuse the crap out of liberals Who do they defend :face_with_tears_of_joy:'],\n",
       " [':face_with_tears_of_joy:,5',\n",
       "  'Stalin Atrocities Lollu Sabha Mix :face_with_tears_of_joy: Dedicated to all உப ி ஸ ் in the social media :folded_hands: 🏼'],\n",
       " [':folded_hands:,16',\n",
       "  'Stalin Atrocities Lollu Sabha Mix :face_with_tears_of_joy: Dedicated to all உப ி ஸ ் in the social media :folded_hands: 🏼'],\n",
       " [':face_with_tears_of_joy:,18',\n",
       "  'I only use dpns now for icord and thumbs or if I cant find a long enough circ :face_with_tears_of_joy: Too many WIPs around']]"
      ]
     },
     "execution_count": 6,
     "metadata": {},
     "output_type": "execute_result"
    }
   ],
   "source": [
    "rdd = df.rdd.map(list)\n",
    "rdd = rdd.map(lambda x: (divide_emoji(x[0]), x[1]))\n",
    "rdd = rdd.flatMap(lambda x: formed_(x))\n",
    "rdd.take(5)"
   ]
  },
  {
   "cell_type": "code",
   "execution_count": 7,
   "metadata": {},
   "outputs": [],
   "source": [
    "def separate_emoji(x):\n",
    "    temp = x.split(',')\n",
    "    return temp[0]\n",
    "\n",
    "def separate_position(x):\n",
    "    temp = x.split(',')\n",
    "    return temp[1]"
   ]
  },
  {
   "cell_type": "code",
   "execution_count": 8,
   "metadata": {},
   "outputs": [],
   "source": [
    "rdd = rdd.map(lambda x: (separate_emoji(x[0]), int(separate_position(x[0])), x[1]))"
   ]
  },
  {
   "cell_type": "markdown",
   "metadata": {},
   "source": [
    "### For every emoji, find the top 10 words appears mostwhen using the emoji."
   ]
  },
  {
   "cell_type": "code",
   "execution_count": 9,
   "metadata": {},
   "outputs": [],
   "source": [
    "def count_words(sentence):\n",
    "    sentence = sentence.split(' ')\n",
    "    words_frequency={}\n",
    "    for word in sentence:\n",
    "        word =''.join(ch for ch in word if ch.isalpha())\n",
    "        word = word.lower()\n",
    "        if word == '':\n",
    "            continue\n",
    "        if word in words_frequency:\n",
    "            words_frequency[word] += 1\n",
    "        else:\n",
    "            words_frequency[word] = 1\n",
    "    temp = list(words_frequency.items())\n",
    "    temp.sort(key = lambda x: x[1], reverse=True)\n",
    "    result = []\n",
    "    num_top_word = 10\n",
    "    if len(temp) < 10:\n",
    "        num_top_word = len(temp)\n",
    "    for i in range(num_top_word):\n",
    "        result.append(temp[i][0])\n",
    "    return result"
   ]
  },
  {
   "cell_type": "code",
   "execution_count": 10,
   "metadata": {},
   "outputs": [],
   "source": [
    "def combine_string(x):\n",
    "    all_sentence = \"\"\n",
    "    for item in x:\n",
    "        sentence = item[1].split(item[0])\n",
    "        for word in sentence:\n",
    "            if word != item[0]:\n",
    "                all_sentence = all_sentence + word + \" \"\n",
    "    return all_sentence"
   ]
  },
  {
   "cell_type": "code",
   "execution_count": 11,
   "metadata": {},
   "outputs": [
    {
     "data": {
      "text/plain": [
       "[(':sparkling_heart:',\n",
       "  ['one',\n",
       "   'of',\n",
       "   'the',\n",
       "   'things',\n",
       "   'ive',\n",
       "   'waited',\n",
       "   'twohearts',\n",
       "   'i',\n",
       "   'want',\n",
       "   'sum']),\n",
       " (':face_with_tears_of_joy:',\n",
       "  ['i',\n",
       "   'the',\n",
       "   'and',\n",
       "   'momma',\n",
       "   'this',\n",
       "   'start',\n",
       "   'a',\n",
       "   'now',\n",
       "   'changyoon',\n",
       "   'gunmin']),\n",
       " (':folded_hands:',\n",
       "  ['stalin',\n",
       "   'atrocities',\n",
       "   'lollu',\n",
       "   'sabha',\n",
       "   'mix',\n",
       "   'facewithtearsofjoy',\n",
       "   'dedicated',\n",
       "   'to',\n",
       "   'all',\n",
       "   'உப']),\n",
       " (':speaking_head:',\n",
       "  ['queens',\n",
       "   'if',\n",
       "   'your',\n",
       "   'king',\n",
       "   'doesnt',\n",
       "   'treat',\n",
       "   'you',\n",
       "   'like',\n",
       "   'husband',\n",
       "   'does']),\n",
       " (':heart_suit:',\n",
       "  ['vip', 'pump', 'notifier', 'for', 'bittrex', 'private', 'and', 'dai'])]"
      ]
     },
     "execution_count": 11,
     "metadata": {},
     "output_type": "execute_result"
    }
   ],
   "source": [
    "temp_rdd = rdd.map(lambda x: (x[0], x[2]))\n",
    "group_by_emoji = temp_rdd.groupBy(lambda x: x[0])\n",
    "operate_rdd = group_by_emoji.map(lambda x: (x[0], list(x[1])))\n",
    "combined = operate_rdd.map(lambda x: (x[0], combine_string(x[1])))\n",
    "result = combined.map(lambda x: (x[0], count_words(x[1])))\n",
    "result.take(5)"
   ]
  },
  {
   "cell_type": "code",
   "execution_count": 12,
   "metadata": {},
   "outputs": [],
   "source": [
    "result_df = result.toDF()"
   ]
  },
  {
   "cell_type": "code",
   "execution_count": 13,
   "metadata": {},
   "outputs": [],
   "source": [
    "#result_df.write.format(\"com.mongodb.spark.sql.DefaultSource\").mode(\"append\").save()"
   ]
  },
  {
   "cell_type": "code",
   "execution_count": 14,
   "metadata": {},
   "outputs": [
    {
     "name": "stdout",
     "output_type": "stream",
     "text": [
      "+--------------------+--------------------+\n",
      "|                  _1|                  _2|\n",
      "+--------------------+--------------------+\n",
      "|   :sparkling_heart:|[one, of, the, th...|\n",
      "|:face_with_tears_...|[i, the, and, mom...|\n",
      "|      :folded_hands:|[stalin, atrociti...|\n",
      "|     :speaking_head:|[queens, if, your...|\n",
      "|        :heart_suit:|[vip, pump, notif...|\n",
      "|:backhand_index_p...|[answers, for, xi...|\n",
      "|           :OK_hand:|[sex, with, the, ...|\n",
      "|:person_facepalming:|[bro, i, never, s...|\n",
      "|         :male_sign:|[i, u, bro, never...|\n",
      "|:loudly_crying_face:|[i, bro, never, s...|\n",
      "|       :right_arrow:|[my, to, click, s...|\n",
      "|        :weary_face:|[i, wanna, the, s...|\n",
      "|  :person_shrugging:|[i, where, need, ...|\n",
      "|       :female_sign:|[i, my, amp, pers...|\n",
      "|      :winking_face:|[in, comments, an...|\n",
      "|       :crying_face:|[i, hope, that, c...|\n",
      "|        :two_hearts:|[i, want, sum, sp...|\n",
      "|          :sparkles:|[some, que, twohe...|\n",
      "|      :flushed_face:|[bang, what, nick...|\n",
      "|      :purple_heart:|[everyday, is, na...|\n",
      "+--------------------+--------------------+\n",
      "only showing top 20 rows\n",
      "\n"
     ]
    }
   ],
   "source": [
    "result_df.show()"
   ]
  },
  {
   "cell_type": "code",
   "execution_count": 22,
   "metadata": {},
   "outputs": [
    {
     "name": "stdout",
     "output_type": "stream",
     "text": [
      ":sparkling_heart:\n",
      "[{'name': 'one', 'value': 1}, {'name': 'of', 'value': 1}, {'name': 'the', 'value': 1}, {'name': 'things', 'value': 1}, {'name': 'ive', 'value': 1}, {'name': 'waited', 'value': 1}, {'name': 'twohearts', 'value': 1}, {'name': 'i', 'value': 1}, {'name': 'want', 'value': 1}, {'name': 'sum', 'value': 1}]\n",
      ":face_with_tears_of_joy:\n",
      "[{'name': 'i', 'value': 1}, {'name': 'the', 'value': 1}, {'name': 'and', 'value': 1}, {'name': 'momma', 'value': 1}, {'name': 'this', 'value': 1}, {'name': 'start', 'value': 1}, {'name': 'a', 'value': 1}, {'name': 'now', 'value': 1}, {'name': 'changyoon', 'value': 1}, {'name': 'gunmin', 'value': 1}]\n",
      ":folded_hands:\n",
      "[{'name': 'stalin', 'value': 1}, {'name': 'atrocities', 'value': 1}, {'name': 'lollu', 'value': 1}, {'name': 'sabha', 'value': 1}, {'name': 'mix', 'value': 1}, {'name': 'facewithtearsofjoy', 'value': 1}, {'name': 'dedicated', 'value': 1}, {'name': 'to', 'value': 1}, {'name': 'all', 'value': 1}, {'name': 'உப', 'value': 1}]\n",
      ":speaking_head:\n",
      "[{'name': 'queens', 'value': 1}, {'name': 'if', 'value': 1}, {'name': 'your', 'value': 1}, {'name': 'king', 'value': 1}, {'name': 'doesnt', 'value': 1}, {'name': 'treat', 'value': 1}, {'name': 'you', 'value': 1}, {'name': 'like', 'value': 1}, {'name': 'husband', 'value': 1}, {'name': 'does', 'value': 1}]\n",
      ":heart_suit:\n",
      "[{'name': 'vip', 'value': 1}, {'name': 'pump', 'value': 1}, {'name': 'notifier', 'value': 1}, {'name': 'for', 'value': 1}, {'name': 'bittrex', 'value': 1}, {'name': 'private', 'value': 1}, {'name': 'and', 'value': 1}, {'name': 'dai', 'value': 1}]\n",
      ":backhand_index_pointing_right:\n",
      "[{'name': 'answers', 'value': 1}, {'name': 'for', 'value': 1}, {'name': 'xiumins', 'value': 1}, {'name': 'questions', 'value': 1}, {'name': 'on', 'value': 1}, {'name': 'exol', 'value': 1}, {'name': 'app', 'value': 1}, {'name': 'coming', 'value': 1}, {'name': 'soon', 'value': 1}, {'name': 'exo', 'value': 1}]\n",
      ":OK_hand:\n",
      "[{'name': 'sex', 'value': 1}, {'name': 'with', 'value': 1}, {'name': 'the', 'value': 1}, {'name': 'right', 'value': 1}, {'name': 'person', 'value': 1}, {'name': 'can', 'value': 1}, {'name': 'be', 'value': 1}, {'name': 'addicting', 'value': 1}, {'name': 'as', 'value': 1}, {'name': 'fuck', 'value': 1}]\n",
      ":person_facepalming:\n",
      "[{'name': 'bro', 'value': 1}, {'name': 'i', 'value': 1}, {'name': 'never', 'value': 1}, {'name': 'saw', 'value': 1}, {'name': 'this', 'value': 1}, {'name': 'episode', 'value': 1}, {'name': 'malesign', 'value': 1}, {'name': 'loudlycryingface', 'value': 1}]\n",
      ":male_sign:\n",
      "[{'name': 'i', 'value': 1}, {'name': 'u', 'value': 1}, {'name': 'bro', 'value': 1}, {'name': 'never', 'value': 1}, {'name': 'saw', 'value': 1}, {'name': 'this', 'value': 1}, {'name': 'episode', 'value': 1}, {'name': 'personfacepalming', 'value': 1}, {'name': 'loudlycryingface', 'value': 1}, {'name': 'dont', 'value': 1}]\n",
      ":loudly_crying_face:\n",
      "[{'name': 'i', 'value': 1}, {'name': 'bro', 'value': 1}, {'name': 'never', 'value': 1}, {'name': 'saw', 'value': 1}, {'name': 'this', 'value': 1}, {'name': 'episode', 'value': 1}, {'name': 'personfacepalming', 'value': 1}, {'name': 'malesign', 'value': 1}, {'name': 'hope', 'value': 1}, {'name': 'that', 'value': 1}]\n",
      ":right_arrow:\n",
      "[{'name': 'my', 'value': 1}, {'name': 'to', 'value': 1}, {'name': 'click', 'value': 1}, {'name': 'support', 'value': 1}, {'name': 'dream', 'value': 1}, {'name': 'take', 'value': 1}, {'name': 'business', 'value': 1}, {'name': 'fulltime', 'value': 1}, {'name': 'follow', 'value': 1}, {'name': 'shop', 'value': 1}]\n",
      ":weary_face:\n",
      "[{'name': 'i', 'value': 1}, {'name': 'wanna', 'value': 1}, {'name': 'the', 'value': 1}, {'name': 'seungri', 'value': 1}, {'name': 'and', 'value': 1}, {'name': 'like', 'value': 1}, {'name': 'is', 'value': 1}, {'name': 'a', 'value': 1}, {'name': 'have', 'value': 1}, {'name': 'money', 'value': 1}]\n",
      ":person_shrugging:\n",
      "[{'name': 'i', 'value': 1}, {'name': 'where', 'value': 1}, {'name': 'need', 'value': 1}, {'name': 'my', 'value': 1}, {'name': 'dont', 'value': 1}, {'name': 'femalesign', 'value': 1}, {'name': 'u', 'value': 1}, {'name': 'its', 'value': 1}, {'name': 'days', 'value': 1}, {'name': 'shut', 'value': 1}]\n",
      ":female_sign:\n",
      "[{'name': 'i', 'value': 1}, {'name': 'my', 'value': 1}, {'name': 'amp', 'value': 1}, {'name': 'personshrugging', 'value': 1}, {'name': 'many', 'value': 1}, {'name': 'you', 'value': 1}, {'name': 'as', 'value': 1}, {'name': 'its', 'value': 1}, {'name': 'days', 'value': 1}, {'name': 'where', 'value': 1}]\n",
      ":winking_face:\n",
      "[{'name': 'in', 'value': 1}, {'name': 'comments', 'value': 1}, {'name': 'and', 'value': 1}, {'name': 'more', 'value': 1}, {'name': 'minutes', 'value': 1}, {'name': 'good', 'value': 1}, {'name': 'job', 'value': 1}, {'name': 'exols', 'value': 1}, {'name': 'new', 'value': 1}, {'name': 'challenge', 'value': 1}]\n",
      ":crying_face:\n",
      "[{'name': 'i', 'value': 1}, {'name': 'hope', 'value': 1}, {'name': 'that', 'value': 1}, {'name': 'can', 'value': 1}, {'name': 'bear', 'value': 1}, {'name': 'all', 'value': 1}, {'name': 'the', 'value': 1}, {'name': 'pain', 'value': 1}, {'name': 'of', 'value': 1}, {'name': 'you', 'value': 1}]\n",
      ":two_hearts:\n",
      "[{'name': 'i', 'value': 1}, {'name': 'want', 'value': 1}, {'name': 'sum', 'value': 1}, {'name': 'sparklingheart', 'value': 1}, {'name': 'mf', 'value': 1}, {'name': 'besitos', 'value': 1}, {'name': 'sparkles', 'value': 1}, {'name': 'thanks', 'value': 1}, {'name': 'a', 'value': 1}, {'name': 'lot', 'value': 1}]\n",
      ":sparkles:\n",
      "[{'name': 'some', 'value': 1}, {'name': 'que', 'value': 1}, {'name': 'twohearts', 'value': 1}, {'name': 'i', 'value': 1}, {'name': 'want', 'value': 1}, {'name': 'sum', 'value': 1}, {'name': 'sparklingheart', 'value': 1}, {'name': 'mf', 'value': 1}, {'name': 'besitos', 'value': 1}, {'name': 'join', 'value': 1}]\n",
      ":flushed_face:\n",
      "[{'name': 'bang', 'value': 1}, {'name': 'what', 'value': 1}, {'name': 'nicki', 'value': 1}, {'name': 'minaj', 'value': 1}, {'name': 'sounds', 'value': 1}, {'name': 'like', 'value': 1}, {'name': 'in', 'value': 1}, {'name': 'slowed', 'value': 1}, {'name': 'down', 'value': 1}]\n",
      ":purple_heart:\n",
      "[{'name': 'everyday', 'value': 1}, {'name': 'is', 'value': 1}, {'name': 'namjoon', 'value': 1}, {'name': 'day', 'value': 1}, {'name': 'for', 'value': 1}, {'name': 'me', 'value': 1}, {'name': 'love', 'value': 1}, {'name': 'you', 'value': 1}, {'name': 'my', 'value': 1}, {'name': 'dimple', 'value': 1}]\n",
      ":blue_heart:\n",
      "[{'name': 'of', 'value': 1}, {'name': 'all', 'value': 1}, {'name': 'years', 'value': 1}, {'name': 'amazing', 'value': 1}, {'name': 'memories', 'value': 1}, {'name': 'in', 'value': 1}, {'name': 'one', 'value': 1}, {'name': 'blanket', 'value': 1}, {'name': 'and', 'value': 1}, {'name': 'only', 'value': 1}]\n",
      ":raising_hands:\n",
      "[{'name': 'day', 'value': 1}, {'name': 'more', 'value': 1}, {'name': 'left', 'value': 1}, {'name': 'kaint', 'value': 1}, {'name': 'banda', 'value': 1}, {'name': 'king', 'value': 1}, {'name': 'of', 'value': 1}, {'name': 'rap', 'value': 1}]\n",
      ":thumbs_up:\n",
      "[{'name': 'of', 'value': 1}, {'name': 'clappinghands', 'value': 1}, {'name': 'city', 'value': 1}, {'name': 'baekhyun', 'value': 1}, {'name': 'in', 'value': 1}, {'name': 'the', 'value': 1}, {'name': 'centre', 'value': 1}, {'name': 'blooming', 'value': 1}, {'name': 'days', 'value': 1}, {'name': 'choreography', 'value': 1}]\n",
      ":clapping_hands:\n",
      "[{'name': 'baekhyun', 'value': 1}, {'name': 'in', 'value': 1}, {'name': 'the', 'value': 1}, {'name': 'centre', 'value': 1}, {'name': 'of', 'value': 1}, {'name': 'blooming', 'value': 1}, {'name': 'days', 'value': 1}, {'name': 'choreography', 'value': 1}, {'name': 'our', 'value': 1}, {'name': 'dancing', 'value': 1}]\n",
      ":red_heart:\n",
      "[{'name': 'i', 'value': 1}, {'name': 'love', 'value': 1}, {'name': 'my', 'value': 1}, {'name': 'im', 'value': 1}, {'name': 'whipped', 'value': 1}, {'name': 'pfp', 'value': 1}, {'name': 'boyfriend', 'value': 1}, {'name': 'you', 'value': 1}, {'name': 'got', 'value': 1}, {'name': 'this', 'value': 1}]\n",
      ":fire:\n",
      "[{'name': 'is', 'value': 1}, {'name': 'the', 'value': 1}, {'name': 'to', 'value': 1}, {'name': 'a', 'value': 1}, {'name': 'video', 'value': 1}, {'name': 'yellowheart', 'value': 1}, {'name': 'four', 'value': 1}, {'name': 'goals', 'value': 1}, {'name': 'so', 'value': 1}, {'name': 'far', 'value': 1}]\n",
      ":party_popper:\n",
      "[{'name': 'my', 'value': 1}, {'name': 'week', 'value': 1}, {'name': 'on', 'value': 1}, {'name': 'twitter', 'value': 1}, {'name': 'new', 'value': 1}, {'name': 'followers', 'value': 1}, {'name': 'tweet', 'value': 1}, {'name': 'see', 'value': 1}, {'name': 'yours', 'value': 1}, {'name': 'with', 'value': 1}]\n",
      ":flexed_biceps:\n",
      "[{'name': 'should', 'value': 1}, {'name': 'add', 'value': 1}, {'name': 'in', 'value': 1}, {'name': 'on', 'value': 1}, {'name': 'principal', 'value': 1}, {'name': 'we', 'value': 1}, {'name': 'know', 'value': 1}, {'name': 'winkingface', 'value': 1}, {'name': 'how', 'value': 1}, {'name': 'he', 'value': 1}]\n",
      ":smiling_face_with_heart-eyes:\n",
      "[{'name': 'preparations', 'value': 1}, {'name': 'you', 'value': 1}, {'name': 'so', 'value': 1}, {'name': 'excited', 'value': 1}, {'name': 'i', 'value': 1}, {'name': 'love', 'value': 1}, {'name': 'guys', 'value': 1}, {'name': 'only', 'value': 1}, {'name': 'the', 'value': 1}, {'name': 'best', 'value': 1}]\n",
      ":yellow_heart:\n",
      "[{'name': 'is', 'value': 1}, {'name': 'the', 'value': 1}, {'name': 'video', 'value': 1}, {'name': 'game', 'value': 1}, {'name': 'movie', 'value': 1}, {'name': 'gold', 'value': 1}, {'name': 'franchise', 'value': 1}, {'name': 'character', 'value': 1}, {'name': 'and', 'value': 1}, {'name': 'alicia', 'value': 1}]\n",
      ":thinking_face:\n",
      "[{'name': 'thats', 'value': 1}, {'name': 'interesting', 'value': 1}, {'name': 'if', 'value': 1}, {'name': 'it', 'value': 1}, {'name': 'does', 'value': 1}, {'name': 'occur', 'value': 1}, {'name': 'again', 'value': 1}, {'name': 'please', 'value': 1}, {'name': 'share', 'value': 1}, {'name': 'a', 'value': 1}]\n"
     ]
    }
   ],
   "source": [
    "result_dict = {}\n",
    "result_dict['name'] = 'flare'\n",
    "temp = result_df.collect()\n",
    "result_children = []\n",
    "for row in temp:\n",
    "    temp_dict = {}\n",
    "    temp_dict['name'] = row._1\n",
    "    children = []\n",
    "    words = row._2\n",
    "    for i in range(len(words)):\n",
    "        each_word = {}\n",
    "        each_word['name'] = words[i]\n",
    "        each_word['value'] = 1\n",
    "        children.append(each_word)\n",
    "    temp_dict['children'] = children\n",
    "    result_children.append(temp_dict)\n",
    "result_dict['children'] = result_children\n",
    "    \n",
    "\n",
    "for ele in result_dict['children']:\n",
    "    print(ele['name'])\n",
    "    print(ele['children'])"
   ]
  },
  {
   "cell_type": "code",
   "execution_count": 20,
   "metadata": {},
   "outputs": [
    {
     "name": "stdout",
     "output_type": "stream",
     "text": [
      "analytics\n",
      "[{'name': 'cluster', 'children': [{'name': 'AgglomerativeCluster', 'value': 3938}, {'name': 'CommunityStructure', 'value': 3812}, {'name': 'HierarchicalCluster', 'value': 6714}, {'name': 'MergeEdge', 'value': 743}]}, {'name': 'graph', 'children': [{'name': 'BetweennessCentrality', 'value': 3534}, {'name': 'LinkDistance', 'value': 5731}, {'name': 'MaxFlowMinCut', 'value': 7840}, {'name': 'ShortestPaths', 'value': 5914}, {'name': 'SpanningTree', 'value': 3416}]}, {'name': 'optimization', 'children': [{'name': 'AspectRatioBanker', 'value': 7074}]}]\n",
      "animate\n",
      "[{'name': 'Easing', 'value': 17010}, {'name': 'FunctionSequence', 'value': 5842}, {'name': 'interpolate', 'children': [{'name': 'ArrayInterpolator', 'value': 1983}, {'name': 'ColorInterpolator', 'value': 2047}, {'name': 'DateInterpolator', 'value': 1375}, {'name': 'Interpolator', 'value': 8746}, {'name': 'MatrixInterpolator', 'value': 2202}, {'name': 'NumberInterpolator', 'value': 1382}, {'name': 'ObjectInterpolator', 'value': 1629}, {'name': 'PointInterpolator', 'value': 1675}, {'name': 'RectangleInterpolator', 'value': 2042}]}, {'name': 'ISchedulable', 'value': 1041}, {'name': 'Parallel', 'value': 5176}, {'name': 'Pause', 'value': 449}, {'name': 'Scheduler', 'value': 5593}, {'name': 'Sequence', 'value': 5534}, {'name': 'Transition', 'value': 9201}, {'name': 'Transitioner', 'value': 19975}, {'name': 'TransitionEvent', 'value': 1116}, {'name': 'Tween', 'value': 6006}]\n",
      "data\n",
      "[{'name': 'converters', 'children': [{'name': 'Converters', 'value': 721}, {'name': 'DelimitedTextConverter', 'value': 4294}, {'name': 'GraphMLConverter', 'value': 9800}, {'name': 'IDataConverter', 'value': 1314}, {'name': 'JSONConverter', 'value': 2220}]}, {'name': 'DataField', 'value': 1759}, {'name': 'DataSchema', 'value': 2165}, {'name': 'DataSet', 'value': 586}, {'name': 'DataSource', 'value': 3331}, {'name': 'DataTable', 'value': 772}, {'name': 'DataUtil', 'value': 3322}]\n",
      "display\n",
      "[{'name': 'DirtySprite', 'value': 8833}, {'name': 'LineSprite', 'value': 1732}, {'name': 'RectSprite', 'value': 3623}, {'name': 'TextSprite', 'value': 10066}]\n",
      "flex\n",
      "[{'name': 'FlareVis', 'value': 4116}]\n",
      "physics\n",
      "[{'name': 'DragForce', 'value': 1082}, {'name': 'GravityForce', 'value': 1336}, {'name': 'IForce', 'value': 319}, {'name': 'NBodyForce', 'value': 10498}, {'name': 'Particle', 'value': 2822}, {'name': 'Simulation', 'value': 9983}, {'name': 'Spring', 'value': 2213}, {'name': 'SpringForce', 'value': 1681}]\n",
      "query\n",
      "[{'name': 'AggregateExpression', 'value': 1616}, {'name': 'And', 'value': 1027}, {'name': 'Arithmetic', 'value': 3891}, {'name': 'Average', 'value': 891}, {'name': 'BinaryExpression', 'value': 2893}, {'name': 'Comparison', 'value': 5103}, {'name': 'CompositeExpression', 'value': 3677}, {'name': 'Count', 'value': 781}, {'name': 'DateUtil', 'value': 4141}, {'name': 'Distinct', 'value': 933}, {'name': 'Expression', 'value': 5130}, {'name': 'ExpressionIterator', 'value': 3617}, {'name': 'Fn', 'value': 3240}, {'name': 'If', 'value': 2732}, {'name': 'IsA', 'value': 2039}, {'name': 'Literal', 'value': 1214}, {'name': 'Match', 'value': 3748}, {'name': 'Maximum', 'value': 843}, {'name': 'methods', 'children': [{'name': 'add', 'value': 593}, {'name': 'and', 'value': 330}, {'name': 'average', 'value': 287}, {'name': 'count', 'value': 277}, {'name': 'distinct', 'value': 292}, {'name': 'div', 'value': 595}, {'name': 'eq', 'value': 594}, {'name': 'fn', 'value': 460}, {'name': 'gt', 'value': 603}, {'name': 'gte', 'value': 625}, {'name': 'iff', 'value': 748}, {'name': 'isa', 'value': 461}, {'name': 'lt', 'value': 597}, {'name': 'lte', 'value': 619}, {'name': 'max', 'value': 283}, {'name': 'min', 'value': 283}, {'name': 'mod', 'value': 591}, {'name': 'mul', 'value': 603}, {'name': 'neq', 'value': 599}, {'name': 'not', 'value': 386}, {'name': 'or', 'value': 323}, {'name': 'orderby', 'value': 307}, {'name': 'range', 'value': 772}, {'name': 'select', 'value': 296}, {'name': 'stddev', 'value': 363}, {'name': 'sub', 'value': 600}, {'name': 'sum', 'value': 280}, {'name': 'update', 'value': 307}, {'name': 'variance', 'value': 335}, {'name': 'where', 'value': 299}, {'name': 'xor', 'value': 354}, {'name': '_', 'value': 264}]}, {'name': 'Minimum', 'value': 843}, {'name': 'Not', 'value': 1554}, {'name': 'Or', 'value': 970}, {'name': 'Query', 'value': 13896}, {'name': 'Range', 'value': 1594}, {'name': 'StringUtil', 'value': 4130}, {'name': 'Sum', 'value': 791}, {'name': 'Variable', 'value': 1124}, {'name': 'Variance', 'value': 1876}, {'name': 'Xor', 'value': 1101}]\n",
      "scale\n",
      "[{'name': 'IScaleMap', 'value': 2105}, {'name': 'LinearScale', 'value': 1316}, {'name': 'LogScale', 'value': 3151}, {'name': 'OrdinalScale', 'value': 3770}, {'name': 'QuantileScale', 'value': 2435}, {'name': 'QuantitativeScale', 'value': 4839}, {'name': 'RootScale', 'value': 1756}, {'name': 'Scale', 'value': 4268}, {'name': 'ScaleType', 'value': 1821}, {'name': 'TimeScale', 'value': 5833}]\n",
      "util\n",
      "[{'name': 'Arrays', 'value': 8258}, {'name': 'Colors', 'value': 10001}, {'name': 'Dates', 'value': 8217}, {'name': 'Displays', 'value': 12555}, {'name': 'Filter', 'value': 2324}, {'name': 'Geometry', 'value': 10993}, {'name': 'heap', 'children': [{'name': 'FibonacciHeap', 'value': 9354}, {'name': 'HeapNode', 'value': 1233}]}, {'name': 'IEvaluable', 'value': 335}, {'name': 'IPredicate', 'value': 383}, {'name': 'IValueProxy', 'value': 874}, {'name': 'math', 'children': [{'name': 'DenseMatrix', 'value': 3165}, {'name': 'IMatrix', 'value': 2815}, {'name': 'SparseMatrix', 'value': 3366}]}, {'name': 'Maths', 'value': 17705}, {'name': 'Orientation', 'value': 1486}, {'name': 'palette', 'children': [{'name': 'ColorPalette', 'value': 6367}, {'name': 'Palette', 'value': 1229}, {'name': 'ShapePalette', 'value': 2059}, {'name': 'SizePalette', 'value': 2291}]}, {'name': 'Property', 'value': 5559}, {'name': 'Shapes', 'value': 19118}, {'name': 'Sort', 'value': 6887}, {'name': 'Stats', 'value': 6557}, {'name': 'Strings', 'value': 22026}]\n",
      "vis\n",
      "[{'name': 'axis', 'children': [{'name': 'Axes', 'value': 1302}, {'name': 'Axis', 'value': 24593}, {'name': 'AxisGridLine', 'value': 652}, {'name': 'AxisLabel', 'value': 636}, {'name': 'CartesianAxes', 'value': 6703}]}, {'name': 'controls', 'children': [{'name': 'AnchorControl', 'value': 2138}, {'name': 'ClickControl', 'value': 3824}, {'name': 'Control', 'value': 1353}, {'name': 'ControlList', 'value': 4665}, {'name': 'DragControl', 'value': 2649}, {'name': 'ExpandControl', 'value': 2832}, {'name': 'HoverControl', 'value': 4896}, {'name': 'IControl', 'value': 763}, {'name': 'PanZoomControl', 'value': 5222}, {'name': 'SelectionControl', 'value': 7862}, {'name': 'TooltipControl', 'value': 8435}]}, {'name': 'data', 'children': [{'name': 'Data', 'value': 20544}, {'name': 'DataList', 'value': 19788}, {'name': 'DataSprite', 'value': 10349}, {'name': 'EdgeSprite', 'value': 3301}, {'name': 'NodeSprite', 'value': 19382}, {'name': 'render', 'children': [{'name': 'ArrowType', 'value': 698}, {'name': 'EdgeRenderer', 'value': 5569}, {'name': 'IRenderer', 'value': 353}, {'name': 'ShapeRenderer', 'value': 2247}]}, {'name': 'ScaleBinding', 'value': 11275}, {'name': 'Tree', 'value': 7147}, {'name': 'TreeBuilder', 'value': 9930}]}, {'name': 'events', 'children': [{'name': 'DataEvent', 'value': 2313}, {'name': 'SelectionEvent', 'value': 1880}, {'name': 'TooltipEvent', 'value': 1701}, {'name': 'VisualizationEvent', 'value': 1117}]}, {'name': 'legend', 'children': [{'name': 'Legend', 'value': 20859}, {'name': 'LegendItem', 'value': 4614}, {'name': 'LegendRange', 'value': 10530}]}, {'name': 'operator', 'children': [{'name': 'distortion', 'children': [{'name': 'BifocalDistortion', 'value': 4461}, {'name': 'Distortion', 'value': 6314}, {'name': 'FisheyeDistortion', 'value': 3444}]}, {'name': 'encoder', 'children': [{'name': 'ColorEncoder', 'value': 3179}, {'name': 'Encoder', 'value': 4060}, {'name': 'PropertyEncoder', 'value': 4138}, {'name': 'ShapeEncoder', 'value': 1690}, {'name': 'SizeEncoder', 'value': 1830}]}, {'name': 'filter', 'children': [{'name': 'FisheyeTreeFilter', 'value': 5219}, {'name': 'GraphDistanceFilter', 'value': 3165}, {'name': 'VisibilityFilter', 'value': 3509}]}, {'name': 'IOperator', 'value': 1286}, {'name': 'label', 'children': [{'name': 'Labeler', 'value': 9956}, {'name': 'RadialLabeler', 'value': 3899}, {'name': 'StackedAreaLabeler', 'value': 3202}]}, {'name': 'layout', 'children': [{'name': 'AxisLayout', 'value': 6725}, {'name': 'BundledEdgeRouter', 'value': 3727}, {'name': 'CircleLayout', 'value': 9317}, {'name': 'CirclePackingLayout', 'value': 12003}, {'name': 'DendrogramLayout', 'value': 4853}, {'name': 'ForceDirectedLayout', 'value': 8411}, {'name': 'IcicleTreeLayout', 'value': 4864}, {'name': 'IndentedTreeLayout', 'value': 3174}, {'name': 'Layout', 'value': 7881}, {'name': 'NodeLinkTreeLayout', 'value': 12870}, {'name': 'PieLayout', 'value': 2728}, {'name': 'RadialTreeLayout', 'value': 12348}, {'name': 'RandomLayout', 'value': 870}, {'name': 'StackedAreaLayout', 'value': 9121}, {'name': 'TreeMapLayout', 'value': 9191}]}, {'name': 'Operator', 'value': 2490}, {'name': 'OperatorList', 'value': 5248}, {'name': 'OperatorSequence', 'value': 4190}, {'name': 'OperatorSwitch', 'value': 2581}, {'name': 'SortOperator', 'value': 2023}]}, {'name': 'Visualization', 'value': 16540}]\n"
     ]
    }
   ],
   "source": [
    "import json \n",
    "f = open('flare-2.json',)\n",
    "i = 0\n",
    "data = json.load(f)\n",
    "for ele in data['children']:\n",
    "    print(ele['name'])\n",
    "    print(ele['children'])"
   ]
  },
  {
   "cell_type": "code",
   "execution_count": null,
   "metadata": {},
   "outputs": [],
   "source": []
  }
 ],
 "metadata": {
  "kernelspec": {
   "display_name": "Python 3",
   "language": "python",
   "name": "python3"
  },
  "language_info": {
   "codemirror_mode": {
    "name": "ipython",
    "version": 3
   },
   "file_extension": ".py",
   "mimetype": "text/x-python",
   "name": "python",
   "nbconvert_exporter": "python",
   "pygments_lexer": "ipython3",
   "version": "3.7.4"
  }
 },
 "nbformat": 4,
 "nbformat_minor": 2
}
