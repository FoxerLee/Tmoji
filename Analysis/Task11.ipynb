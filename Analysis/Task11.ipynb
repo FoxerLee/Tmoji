{
 "cells": [
  {
   "cell_type": "code",
   "execution_count": 1,
   "metadata": {},
   "outputs": [],
   "source": [
    "import os\n",
    "import collections\n",
    "\n",
    "from pyspark.sql import SparkSession\n",
    "from operator import add\n",
    "\n",
    "spark = SparkSession \\\n",
    "    .builder \\\n",
    "    .appName(\"myApp\") \\\n",
    "    .config(\"spark.mongodb.input.uri\", \"mongodb://127.0.0.1/bigdata.raw\") \\\n",
    "    .config(\"spark.mongodb.output.uri\", \"mongodb://127.0.0.1/bigdata.t11\") \\\n",
    "    .config('spark.jars.packages', 'org.mongodb.spark:mongo-spark-connector_2.11:2.3.1')\\\n",
    "    .getOrCreate()"
   ]
  },
  {
   "cell_type": "code",
   "execution_count": 2,
   "metadata": {},
   "outputs": [
    {
     "name": "stdout",
     "output_type": "stream",
     "text": [
      "+--------------------+--------------------+--------------------+\n",
      "|                 _id|               emoji|            sentence|\n",
      "+--------------------+--------------------+--------------------+\n",
      "|[5ea4eddb59a37f98...|      :red_heart:,18|No object is so b...|\n",
      "|[5ea4eddb59a37f98...|:person_shrugging...|Cant expect diffe...|\n",
      "|[5ea4eddb59a37f98...|:face_with_tears_...|“ Lets go Marcus ...|\n",
      "|[5ea4eddb59a37f98...|:face_with_tears_...|Asahd really is a...|\n",
      "|[5ea4eddb59a37f98...|:face_with_tears_...|Yoongi Tweet Hell...|\n",
      "|[5ea4eddb59a37f98...|:backhand_index_p...|we cannot afford ...|\n",
      "|[5ea4eddb59a37f98...|:party_popper:,8 ...|ranks 6th in Janu...|\n",
      "|[5ea4eddb59a37f98...|:person_facepalmi...|Ok people are rea...|\n",
      "|[5ea4eddb59a37f98...|:smiling_face_wit...|Cant wait to meet...|\n",
      "|[5ea4eddb59a37f98...| :clapping_hands:,11|Congratulations M...|\n",
      "|[5ea4eddb59a37f98...|:face_with_tears_...|Met orlando brown...|\n",
      "|[5ea4eddb59a37f98...|      :weary_face:,4|Im goin to bed :w...|\n",
      "|[5ea4eddb59a37f98...|  :clapping_hands:,9|Will and Jada on ...|\n",
      "|[5ea4eddb59a37f98...|:person_shrugging...|EVERYBODY is preg...|\n",
      "|[5ea4eddb59a37f98...|       :male_sign:,8|I promise to fuck...|\n",
      "|[5ea4eddb59a37f98...|    :folded_hands:,3|God keep working ...|\n",
      "|[5ea4eddb59a37f98...|    :party_popper:,4|Happy Birthday to...|\n",
      "|[5ea4eddb59a37f98...|  :hundred_points:,8|Over 3M Dollars i...|\n",
      "|[5ea4eddb59a37f98...|:loudly_crying_fa...|I be considering ...|\n",
      "|[5ea4eddb59a37f98...|:rolling_on_the_f...|My teacher gave s...|\n",
      "+--------------------+--------------------+--------------------+\n",
      "only showing top 20 rows\n",
      "\n"
     ]
    }
   ],
   "source": [
    "df = spark.read.format(\"com.mongodb.spark.sql.DefaultSource\").load()\n",
    "df = df.limit(100000)\n",
    "df.show()"
   ]
  },
  {
   "cell_type": "markdown",
   "metadata": {},
   "source": [
    "## For every emoji, ﬁnd the average word length in the sentences that contain it."
   ]
  },
  {
   "cell_type": "code",
   "execution_count": 3,
   "metadata": {},
   "outputs": [
    {
     "data": {
      "text/plain": [
       "[(':red_heart:', 15.0),\n",
       " (':person_shrugging:', 18.0),\n",
       " (':female_sign:', 18.0),\n",
       " (':face_with_tears_of_joy:', 13.0),\n",
       " (':backhand_index_pointing_down:', 17.0),\n",
       " (':party_popper:', 15.0),\n",
       " (':person_facepalming:', 18.0),\n",
       " (':smiling_face_with_heart-eyes:', 12.0),\n",
       " (':clapping_hands:', 19.0),\n",
       " (':weary_face:', 13.0)]"
      ]
     },
     "execution_count": 3,
     "metadata": {},
     "output_type": "execute_result"
    }
   ],
   "source": [
    "def average_length(line):\n",
    "    res = []\n",
    "    sentence = line.sentence.split(' ')\n",
    "    sentence_length = len(sentence)\n",
    "    \n",
    "    emojis = line.emoji.split(' ')\n",
    "    for emoji in emojis:\n",
    "        tmp = emoji.split(',')[0]\n",
    "        res.append((tmp, sentence_length))\n",
    "    return res\n",
    "    \n",
    "emojis_ave = df.rdd.map(average_length) \\\n",
    "            .flatMap(lambda x: x) \\\n",
    "            .map(lambda x: (x, 1)) \\\n",
    "            .reduceByKey(add)\n",
    "\n",
    "# emojis_ave.take(3)\n",
    "\n",
    "sentences_count = emojis_ave.map(lambda x: (x[0][0], x[1])) \\\n",
    "                    .reduceByKey(add)\n",
    "\n",
    "# sentences_count.take(3)\n",
    "\n",
    "words_count = emojis_ave.map(lambda x: (x[0][0], x[0][1]*x[1])) \\\n",
    "                    .reduceByKey(add)\n",
    "# words_count.take(3)\n",
    "\n",
    "ave_result = sentences_count.join(words_count) \\\n",
    "            .map(lambda x: (x[0], round(x[1][1] / x[1][0], 0)))\n",
    "\n",
    "ave_result.take(10)"
   ]
  },
  {
   "cell_type": "code",
   "execution_count": 4,
   "metadata": {},
   "outputs": [
    {
     "name": "stdout",
     "output_type": "stream",
     "text": [
      "+--------------------+-------+\n",
      "|               emoji|ave_len|\n",
      "+--------------------+-------+\n",
      "|         :red_heart:|   15.0|\n",
      "|  :person_shrugging:|   18.0|\n",
      "|       :female_sign:|   18.0|\n",
      "|:face_with_tears_...|   13.0|\n",
      "|:backhand_index_p...|   17.0|\n",
      "|      :party_popper:|   15.0|\n",
      "|:person_facepalming:|   18.0|\n",
      "|:smiling_face_wit...|   12.0|\n",
      "|    :clapping_hands:|   19.0|\n",
      "|        :weary_face:|   13.0|\n",
      "|         :male_sign:|   18.0|\n",
      "|:loudly_crying_face:|   13.0|\n",
      "|      :folded_hands:|   15.0|\n",
      "|    :hundred_points:|   14.0|\n",
      "|:rolling_on_the_f...|   13.0|\n",
      "|     :flexed_biceps:|   14.0|\n",
      "|:backhand_index_p...|   17.0|\n",
      "|       :crying_face:|   13.0|\n",
      "|      :purple_heart:|   14.0|\n",
      "|      :yellow_heart:|   13.0|\n",
      "+--------------------+-------+\n",
      "only showing top 20 rows\n",
      "\n"
     ]
    }
   ],
   "source": [
    "result = ave_result.toDF()\n",
    "result = result.selectExpr(\"_1 as emoji\", \"_2 as ave_len\")\n",
    "result.show()"
   ]
  },
  {
   "cell_type": "code",
   "execution_count": 5,
   "metadata": {},
   "outputs": [],
   "source": [
    "result.write.format(\"com.mongodb.spark.sql.DefaultSource\").mode(\"append\").save()"
   ]
  }
 ],
 "metadata": {
  "kernelspec": {
   "display_name": "Python 3",
   "language": "python",
   "name": "python3"
  },
  "language_info": {
   "codemirror_mode": {
    "name": "ipython",
    "version": 3
   },
   "file_extension": ".py",
   "mimetype": "text/x-python",
   "name": "python",
   "nbconvert_exporter": "python",
   "pygments_lexer": "ipython3",
   "version": "3.7.4"
  }
 },
 "nbformat": 4,
 "nbformat_minor": 2
}
