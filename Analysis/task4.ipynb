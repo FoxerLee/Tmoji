{
 "cells": [
  {
   "cell_type": "code",
   "execution_count": 1,
   "metadata": {},
   "outputs": [],
   "source": [
    "from pymongo import MongoClient\n",
    "from pyspark import SparkContext\n",
    "from pyspark.sql import SparkSession\n",
    "import pyspark.sql.functions as F"
   ]
  },
  {
   "cell_type": "code",
   "execution_count": 2,
   "metadata": {},
   "outputs": [],
   "source": [
    "spark = SparkSession \\\n",
    "    .builder \\\n",
    "    .appName(\"myApp\") \\\n",
    "    .config(\"spark.mongodb.input.uri\", \"mongodb://127.0.0.1/bigdata.raw\") \\\n",
    "    .config(\"spark.mongodb.output.uri\", \"mongodb://127.0.0.1/bigdata.top10Word\") \\\n",
    "    .config('spark.jars.packages', 'org.mongodb.spark:mongo-spark-connector_2.11:2.3.1')\\\n",
    "    .getOrCreate()"
   ]
  },
  {
   "cell_type": "code",
   "execution_count": 3,
   "metadata": {},
   "outputs": [],
   "source": [
    "df = spark.read.format(\"com.mongodb.spark.sql.DefaultSource\").load()\n",
    "df = df.limit(100000)"
   ]
  },
  {
   "cell_type": "code",
   "execution_count": 4,
   "metadata": {},
   "outputs": [],
   "source": [
    "df = df.select(\"emoji\", \"sentence\")"
   ]
  },
  {
   "cell_type": "markdown",
   "metadata": {},
   "source": [
    "### Preprocessing"
   ]
  },
  {
   "cell_type": "code",
   "execution_count": 5,
   "metadata": {},
   "outputs": [],
   "source": [
    "def divide_emoji(x):\n",
    "    return x.split(\" \")\n",
    "\n",
    "def formed_(x):\n",
    "    result = []\n",
    "    for emoji in x[0]:\n",
    "        result.append([emoji, x[1]])\n",
    "    return result"
   ]
  },
  {
   "cell_type": "code",
   "execution_count": 6,
   "metadata": {},
   "outputs": [
    {
     "data": {
      "text/plain": [
       "[[':red_heart:,18',\n",
       "  'No object is so beautiful that under certain conditions it will not look ugly Oscar Wilde ↺ RT :red_heart: …'],\n",
       " [':person_shrugging:,13',\n",
       "  'Cant expect different results doing the same thingdoing stuff different from now on :person_shrugging: 🏻 \\u200d :female_sign: ️'],\n",
       " [':female_sign:,15',\n",
       "  'Cant expect different results doing the same thingdoing stuff different from now on :person_shrugging: 🏻 \\u200d :female_sign: ️'],\n",
       " [':face_with_tears_of_joy:,14',\n",
       "  '“ Lets go Marcus ” “ Shiiit where we goin Home ” Marcus Peters :face_with_tears_of_joy:'],\n",
       " [':face_with_tears_of_joy:,14',\n",
       "  'Asahd really is a grown man in the body of a 1 year old :face_with_tears_of_joy:']]"
      ]
     },
     "execution_count": 6,
     "metadata": {},
     "output_type": "execute_result"
    }
   ],
   "source": [
    "rdd = df.rdd.map(list)\n",
    "rdd = rdd.map(lambda x: (divide_emoji(x[0]), x[1]))\n",
    "rdd = rdd.flatMap(lambda x: formed_(x))\n",
    "rdd.take(5)"
   ]
  },
  {
   "cell_type": "code",
   "execution_count": 7,
   "metadata": {},
   "outputs": [],
   "source": [
    "def separate_emoji(x):\n",
    "    temp = x.split(',')\n",
    "    return temp[0]\n",
    "\n",
    "def separate_position(x):\n",
    "    temp = x.split(',')\n",
    "    return temp[1]"
   ]
  },
  {
   "cell_type": "code",
   "execution_count": 8,
   "metadata": {},
   "outputs": [],
   "source": [
    "rdd = rdd.map(lambda x: (separate_emoji(x[0]), int(separate_position(x[0])), x[1]))"
   ]
  },
  {
   "cell_type": "markdown",
   "metadata": {},
   "source": [
    "### For every emoji, find the top 10 words appears mostwhen using the emoji."
   ]
  },
  {
   "cell_type": "code",
   "execution_count": 9,
   "metadata": {},
   "outputs": [],
   "source": [
    "def count_words(sentence):\n",
    "    sentence = sentence.split(' ')\n",
    "    words_frequency={}\n",
    "    for word in sentence:\n",
    "        word =''.join(ch for ch in word if ch.isalpha())\n",
    "        word = word.lower()\n",
    "        if word == '':\n",
    "            continue\n",
    "        if word in words_frequency:\n",
    "            words_frequency[word] += 1\n",
    "        else:\n",
    "            words_frequency[word] = 1\n",
    "    temp = list(words_frequency.items())\n",
    "    temp.sort(key = lambda x: x[1], reverse=True)\n",
    "    result = []\n",
    "    num_top_word = 10\n",
    "    if len(temp) < 10:\n",
    "        num_top_word = len(temp)\n",
    "    for i in range(num_top_word):\n",
    "        result.append(temp[i][0])\n",
    "    return result"
   ]
  },
  {
   "cell_type": "code",
   "execution_count": 10,
   "metadata": {},
   "outputs": [],
   "source": [
    "def combine_string(x):\n",
    "    all_sentence = \"\"\n",
    "    for item in x:\n",
    "        sentence = item[1].split(item[0])\n",
    "        for word in sentence:\n",
    "            if word != item[0]:\n",
    "                all_sentence = all_sentence + word + \" \"\n",
    "    return all_sentence"
   ]
  },
  {
   "cell_type": "code",
   "execution_count": 11,
   "metadata": {},
   "outputs": [
    {
     "data": {
      "text/plain": [
       "[(':red_heart:',\n",
       "  ['you', 'i', 'the', 'to', 'love', 'my', 'and', 'a', 'for', 'so']),\n",
       " (':person_shrugging:',\n",
       "  ['femalesign', 'malesign', 'i', 'to', 'you', 'the', 'a', 'me', 'my', 'it']),\n",
       " (':female_sign:',\n",
       "  ['i',\n",
       "   'personshrugging',\n",
       "   'personfacepalming',\n",
       "   'to',\n",
       "   'the',\n",
       "   'you',\n",
       "   'a',\n",
       "   'my',\n",
       "   'me',\n",
       "   'and']),\n",
       " (':face_with_tears_of_joy:',\n",
       "  ['i', 'the', 'to', 'a', 'this', 'you', 'my', 'and', 'is', 'me']),\n",
       " (':backhand_index_pointing_down:',\n",
       "  ['the', 'to', 'this', 'is', 'a', 'for', 'you', 'and', 'of', 'on'])]"
      ]
     },
     "execution_count": 11,
     "metadata": {},
     "output_type": "execute_result"
    }
   ],
   "source": [
    "temp_rdd = rdd.map(lambda x: (x[0], x[2]))\n",
    "group_by_emoji = temp_rdd.groupBy(lambda x: x[0])\n",
    "operate_rdd = group_by_emoji.map(lambda x: (x[0], list(x[1])))\n",
    "combined = operate_rdd.map(lambda x: (x[0], combine_string(x[1])))\n",
    "result = combined.map(lambda x: (x[0], count_words(x[1])))\n",
    "result.take(5)"
   ]
  },
  {
   "cell_type": "code",
   "execution_count": 12,
   "metadata": {},
   "outputs": [],
   "source": [
    "result_df = result.toDF()"
   ]
  },
  {
   "cell_type": "code",
   "execution_count": 13,
   "metadata": {},
   "outputs": [],
   "source": [
    "result_df.write.format(\"com.mongodb.spark.sql.DefaultSource\").mode(\"append\").save()"
   ]
  },
  {
   "cell_type": "code",
   "execution_count": null,
   "metadata": {},
   "outputs": [],
   "source": []
  }
 ],
 "metadata": {
  "kernelspec": {
   "display_name": "Python 3",
   "language": "python",
   "name": "python3"
  },
  "language_info": {
   "codemirror_mode": {
    "name": "ipython",
    "version": 3
   },
   "file_extension": ".py",
   "mimetype": "text/x-python",
   "name": "python",
   "nbconvert_exporter": "python",
   "pygments_lexer": "ipython3",
   "version": "3.7.4"
  }
 },
 "nbformat": 4,
 "nbformat_minor": 2
}
