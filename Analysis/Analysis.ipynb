{
 "cells": [
  {
   "cell_type": "code",
   "execution_count": 7,
   "metadata": {},
   "outputs": [],
   "source": [
    "import os\n",
    "from pyspark.sql import SparkSession\n",
    "\n",
    "from operator import add"
   ]
  },
  {
   "cell_type": "code",
   "execution_count": 2,
   "metadata": {},
   "outputs": [],
   "source": [
    "# 创建sparkSession对象\n",
    "spark = SparkSession \\\n",
    "    .builder \\\n",
    "    .appName(\"myApp\") \\\n",
    "    .config(\"spark.mongodb.input.uri\", \"mongodb://127.0.0.1/bigdata.raw\") \\\n",
    "    .config(\"spark.mongodb.output.uri\", \"mongodb://127.0.0.1/bigdata.raw\") \\\n",
    "    .config('spark.jars.packages', 'org.mongodb.spark:mongo-spark-connector_2.11:2.3.1')\\\n",
    "    .getOrCreate()"
   ]
  },
  {
   "cell_type": "code",
   "execution_count": 3,
   "metadata": {},
   "outputs": [
    {
     "name": "stdout",
     "output_type": "stream",
     "text": [
      "+--------------------+--------------------+--------------------+\n",
      "|                 _id|               emoji|            sentence|\n",
      "+--------------------+--------------------+--------------------+\n",
      "|[5ea4eddb59a37f98...|      :red_heart:,18|No object is so b...|\n",
      "|[5ea4eddb59a37f98...|:person_shrugging...|Cant expect diffe...|\n",
      "|[5ea4eddb59a37f98...|:face_with_tears_...|“ Lets go Marcus ...|\n",
      "|[5ea4eddb59a37f98...|:face_with_tears_...|Asahd really is a...|\n",
      "|[5ea4eddb59a37f98...|:face_with_tears_...|Yoongi Tweet Hell...|\n",
      "|[5ea4eddb59a37f98...|:backhand_index_p...|we cannot afford ...|\n",
      "|[5ea4eddb59a37f98...|:party_popper:,8 ...|ranks 6th in Janu...|\n",
      "|[5ea4eddb59a37f98...|:person_facepalmi...|Ok people are rea...|\n",
      "|[5ea4eddb59a37f98...|:smiling_face_wit...|Cant wait to meet...|\n",
      "|[5ea4eddb59a37f98...| :clapping_hands:,11|Congratulations M...|\n",
      "|[5ea4eddb59a37f98...|:face_with_tears_...|Met orlando brown...|\n",
      "|[5ea4eddb59a37f98...|      :weary_face:,4|Im goin to bed :w...|\n",
      "|[5ea4eddb59a37f98...|  :clapping_hands:,9|Will and Jada on ...|\n",
      "|[5ea4eddb59a37f98...|:person_shrugging...|EVERYBODY is preg...|\n",
      "|[5ea4eddb59a37f98...|       :male_sign:,8|I promise to fuck...|\n",
      "|[5ea4eddb59a37f98...|    :folded_hands:,3|God keep working ...|\n",
      "|[5ea4eddb59a37f98...|    :party_popper:,4|Happy Birthday to...|\n",
      "|[5ea4eddb59a37f98...|  :hundred_points:,8|Over 3M Dollars i...|\n",
      "|[5ea4eddb59a37f98...|:loudly_crying_fa...|I be considering ...|\n",
      "|[5ea4eddb59a37f98...|:rolling_on_the_f...|My teacher gave s...|\n",
      "+--------------------+--------------------+--------------------+\n",
      "only showing top 20 rows\n",
      "\n"
     ]
    }
   ],
   "source": [
    "df = spark.read.format(\"com.mongodb.spark.sql.DefaultSource\").load()\n",
    "df.show()"
   ]
  },
  {
   "cell_type": "markdown",
   "metadata": {},
   "source": [
    "## Find the appearance frequency of every emoji."
   ]
  },
  {
   "cell_type": "code",
   "execution_count": null,
   "metadata": {},
   "outputs": [],
   "source": [
    "# emoji = \":red_heart:\"\n",
    "emojis = df.select('emoji')\n",
    "# emojis.show()\n",
    "def split_str(line):\n",
    "    res = []\n",
    "    \n",
    "    words = line.emoji.split(\" \")\n",
    "    for word in words:\n",
    "        tmp = word.split(',')[0]\n",
    "        res.append(tmp)\n",
    "    return \" \".join(res)\n",
    "\n",
    "emojis = emojis.rdd.map(split_str)\n",
    "emojis.take(3)"
   ]
  },
  {
   "cell_type": "code",
   "execution_count": null,
   "metadata": {},
   "outputs": [],
   "source": [
    "result = emojis.flatMap(lambda x: x.split(\" \")) \\\n",
    "        .map(lambda x: (x, 1)) \\\n",
    "        .reduceByKey(add).take(10)\n",
    "#         sortBy(lambda x: x[1], False)\n",
    "# result.take(3)\n",
    "for v, k in result:\n",
    "    print(\"{} {}\".format(v, k))"
   ]
  },
  {
   "cell_type": "markdown",
   "metadata": {},
   "source": [
    "## For every emoji, ﬁnd the 3 other emojis that are used most frequently with it."
   ]
  },
  {
   "cell_type": "code",
   "execution_count": null,
   "metadata": {},
   "outputs": [],
   "source": [
    "from itertools import combinations\n",
    "\n",
    "emojis = df.select('emoji')\n",
    "\n",
    "def split_arr(line):\n",
    "    res = []\n",
    "    \n",
    "    words = line.emoji.split(\" \")\n",
    "    for word in words:\n",
    "        tmp = word.split(',')[0]\n",
    "        res.append(tmp)\n",
    "    return res\n",
    "\n",
    "def combination(line):\n",
    "    combs = list(combinations(line, 2))\n",
    "    res = []\n",
    "    for comb in combs:\n",
    "        res.append(str(comb))\n",
    "    return \n",
    "result = emojis.rdd.map(split_arr) \\\n",
    "        .filter(lambda x: len(x) > 1) \\\n",
    "        .map(combination) \\\n",
    "        .map(lambda x: \" \".join(x)) \\\n",
    "#         .flatMap(lambda x: x.split(\" \")) \\\n",
    "#         .map(lambda x: (x, 1)). \\\n",
    "#         reduceByKey(add).take(10)\n",
    "result.take(3)\n",
    "# for v, k in result:\n",
    "#     print(\"{} {}\".format(v, k))"
   ]
  },
  {
   "cell_type": "markdown",
   "metadata": {},
   "source": [
    "## For every emoji, determine it is used more with words begin with lower case or word begin with upper case."
   ]
  },
  {
   "cell_type": "code",
   "execution_count": 9,
   "metadata": {
    "scrolled": false
   },
   "outputs": [
    {
     "data": {
      "text/plain": [
       "[(':face_with_tears_of_joy:', 'lower'),\n",
       " (':backhand_index_pointing_down:', 'lower'),\n",
       " (':loudly_crying_face:', 'lower'),\n",
       " (':smiling_face:', 'lower'),\n",
       " (':heart_suit:', 'lower'),\n",
       " (':face_with_rolling_eyes:', 'lower'),\n",
       " (':eyes:', 'lower'),\n",
       " (':right_arrow:', 'upper'),\n",
       " (':OK_hand:', 'lower'),\n",
       " (':beaming_face_with_smiling_eyes:', 'lower'),\n",
       " (':person_shrugging:', 'lower'),\n",
       " (':person_facepalming:', 'lower'),\n",
       " (':smiling_face_with_heart-eyes:', 'lower'),\n",
       " (':clapping_hands:', 'lower'),\n",
       " (':weary_face:', 'lower'),\n",
       " (':folded_hands:', 'lower'),\n",
       " (':rolling_on_the_floor_laughing:', 'lower'),\n",
       " (':flexed_biceps:', 'lower'),\n",
       " (':winking_face:', 'lower'),\n",
       " (':skull:', 'lower'),\n",
       " (':party_popper:', 'upper'),\n",
       " (':male_sign:', 'upper')]"
      ]
     },
     "execution_count": 9,
     "metadata": {},
     "output_type": "execute_result"
    }
   ],
   "source": [
    "def check_case(line):\n",
    "    res = []\n",
    "    sentence = line.sentence.split(' ')\n",
    "    emojis = line.emoji.split(' ')\n",
    "    \n",
    "    for emoji in emojis:\n",
    "        e, place = emoji.split(',')\n",
    "        word = sentence[int(place)-1]\n",
    "\n",
    "        if word[0].isupper():\n",
    "            res.append((e, 1))\n",
    "        elif word[0].islower():\n",
    "            res.append((e, -1))\n",
    "        else:\n",
    "            res.append((e, 0))\n",
    "    return res\n",
    "\n",
    "def lower_or_upper(line):\n",
    "    word, fre = line[0], line[1]\n",
    "    if fre < 0:\n",
    "        return (word, 'lower')\n",
    "    else:\n",
    "        return (word, 'upper')\n",
    "\n",
    "result = df.rdd.map(check_case) \\\n",
    "        .flatMap(lambda x: x) \\\n",
    "        .reduceByKey(add) \\\n",
    "        .map(lower_or_upper)\n",
    "\n",
    "result.take(22)"
   ]
  }
 ],
 "metadata": {
  "kernelspec": {
   "display_name": "Python 3",
   "language": "python",
   "name": "python3"
  },
  "language_info": {
   "codemirror_mode": {
    "name": "ipython",
    "version": 3
   },
   "file_extension": ".py",
   "mimetype": "text/x-python",
   "name": "python",
   "nbconvert_exporter": "python",
   "pygments_lexer": "ipython3",
   "version": "3.7.4"
  }
 },
 "nbformat": 4,
 "nbformat_minor": 2
}
