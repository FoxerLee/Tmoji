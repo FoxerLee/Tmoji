{
 "cells": [
  {
   "cell_type": "code",
   "execution_count": 21,
   "metadata": {},
   "outputs": [],
   "source": [
    "import os\n",
    "import collections\n",
    "\n",
    "from pyspark.sql import SparkSession\n",
    "from operator import add"
   ]
  },
  {
   "cell_type": "code",
   "execution_count": 2,
   "metadata": {},
   "outputs": [],
   "source": [
    "# 创建sparkSession对象\n",
    "spark = SparkSession \\\n",
    "    .builder \\\n",
    "    .appName(\"myApp\") \\\n",
    "    .config(\"spark.mongodb.input.uri\", \"mongodb://127.0.0.1/bigdata.raw\") \\\n",
    "    .config(\"spark.mongodb.output.uri\", \"mongodb://127.0.0.1/bigdata.raw\") \\\n",
    "    .config('spark.jars.packages', 'org.mongodb.spark:mongo-spark-connector_2.11:2.3.1')\\\n",
    "    .getOrCreate()"
   ]
  },
  {
   "cell_type": "code",
   "execution_count": 3,
   "metadata": {},
   "outputs": [
    {
     "name": "stdout",
     "output_type": "stream",
     "text": [
      "+--------------------+--------------------+--------------------+\n",
      "|                 _id|               emoji|            sentence|\n",
      "+--------------------+--------------------+--------------------+\n",
      "|[5ea4eddb59a37f98...|      :red_heart:,18|No object is so b...|\n",
      "|[5ea4eddb59a37f98...|:person_shrugging...|Cant expect diffe...|\n",
      "|[5ea4eddb59a37f98...|:face_with_tears_...|“ Lets go Marcus ...|\n",
      "|[5ea4eddb59a37f98...|:face_with_tears_...|Asahd really is a...|\n",
      "|[5ea4eddb59a37f98...|:face_with_tears_...|Yoongi Tweet Hell...|\n",
      "|[5ea4eddb59a37f98...|:backhand_index_p...|we cannot afford ...|\n",
      "|[5ea4eddb59a37f98...|:party_popper:,8 ...|ranks 6th in Janu...|\n",
      "|[5ea4eddb59a37f98...|:person_facepalmi...|Ok people are rea...|\n",
      "|[5ea4eddb59a37f98...|:smiling_face_wit...|Cant wait to meet...|\n",
      "|[5ea4eddb59a37f98...| :clapping_hands:,11|Congratulations M...|\n",
      "|[5ea4eddb59a37f98...|:face_with_tears_...|Met orlando brown...|\n",
      "|[5ea4eddb59a37f98...|      :weary_face:,4|Im goin to bed :w...|\n",
      "|[5ea4eddb59a37f98...|  :clapping_hands:,9|Will and Jada on ...|\n",
      "|[5ea4eddb59a37f98...|:person_shrugging...|EVERYBODY is preg...|\n",
      "|[5ea4eddb59a37f98...|       :male_sign:,8|I promise to fuck...|\n",
      "|[5ea4eddb59a37f98...|    :folded_hands:,3|God keep working ...|\n",
      "|[5ea4eddb59a37f98...|    :party_popper:,4|Happy Birthday to...|\n",
      "|[5ea4eddb59a37f98...|  :hundred_points:,8|Over 3M Dollars i...|\n",
      "|[5ea4eddb59a37f98...|:loudly_crying_fa...|I be considering ...|\n",
      "|[5ea4eddb59a37f98...|:rolling_on_the_f...|My teacher gave s...|\n",
      "+--------------------+--------------------+--------------------+\n",
      "only showing top 20 rows\n",
      "\n"
     ]
    }
   ],
   "source": [
    "df = spark.read.format(\"com.mongodb.spark.sql.DefaultSource\").load()\n",
    "df.show()"
   ]
  },
  {
   "cell_type": "markdown",
   "metadata": {},
   "source": [
    "## Find the appearance frequency of every emoji."
   ]
  },
  {
   "cell_type": "code",
   "execution_count": 57,
   "metadata": {},
   "outputs": [
    {
     "data": {
      "text/plain": [
       "[':red_heart:', ':person_shrugging: :female_sign:', ':face_with_tears_of_joy:']"
      ]
     },
     "execution_count": 57,
     "metadata": {},
     "output_type": "execute_result"
    }
   ],
   "source": [
    "# emoji = \":red_heart:\"\n",
    "emojis = df.select('emoji')\n",
    "# emojis.show()\n",
    "def split_str(line):\n",
    "    res = []\n",
    "    \n",
    "    words = line.emoji.split(\" \")\n",
    "    for word in words:\n",
    "        tmp = word.split(',')[0]\n",
    "        res.append(tmp)\n",
    "    return \" \".join(res)\n",
    "\n",
    "emojis = emojis.rdd.map(split_str)\n",
    "emojis.take(3)"
   ]
  },
  {
   "cell_type": "code",
   "execution_count": 58,
   "metadata": {},
   "outputs": [
    {
     "name": "stdout",
     "output_type": "stream",
     "text": [
      ":face_with_tears_of_joy: 306231\n",
      ":backhand_index_pointing_down: 19586\n",
      ":loudly_crying_face: 122740\n",
      ":smiling_face: 17465\n",
      ":heart_suit: 25768\n",
      ":face_with_rolling_eyes: 25695\n",
      ":eyes: 27022\n",
      ":right_arrow: 17521\n",
      ":OK_hand: 19370\n",
      ":beaming_face_with_smiling_eyes: 16840\n"
     ]
    }
   ],
   "source": [
    "result = emojis.flatMap(lambda x: x.split(\" \")) \\\n",
    "        .map(lambda x: (x, 1)) \\\n",
    "        .reduceByKey(add).take(10)\n",
    "#         sortBy(lambda x: x[1], False)\n",
    "# result.take(3)\n",
    "for v, k in result:\n",
    "    print(\"{} {}\".format(v, k))"
   ]
  },
  {
   "cell_type": "markdown",
   "metadata": {},
   "source": [
    "## For every emoji, ﬁnd the 3 other emojis that are used most frequently with it."
   ]
  },
  {
   "cell_type": "code",
   "execution_count": 61,
   "metadata": {},
   "outputs": [
    {
     "data": {
      "text/plain": [
       "[(':loudly_crying_face:',\n",
       "  [':red_heart:', ':female_sign:', ':face_with_tears_of_joy:']),\n",
       " (':face_with_tears_of_joy:',\n",
       "  [':female_sign:', ':male_sign:', ':person_facepalming:']),\n",
       " (':backhand_index_pointing_down:',\n",
       "  [':fire:', ':backhand_index_pointing_right:', ':double_exclamation_mark:']),\n",
       " (':OK_hand:', [':red_heart:', ':fire:', ':hundred_points:']),\n",
       " (':smiling_face:',\n",
       "  [':red_heart:', ':two_hearts:', ':smiling_face_with_heart-eyes:']),\n",
       " (':heart_suit:', [':fire:', ':red_heart:', ':smiling_face_with_heart-eyes:']),\n",
       " (':right_arrow:', [':heavy_check_mark:', ':fire:', ':red_heart:']),\n",
       " (':face_with_rolling_eyes:',\n",
       "  [':female_sign:', ':person_facepalming:', ':male_sign:']),\n",
       " (':eyes:', [':face_with_tears_of_joy:', ':male_sign:', ':fire:']),\n",
       " (':beaming_face_with_smiling_eyes:',\n",
       "  [':red_heart:',\n",
       "   ':face_with_tears_of_joy:',\n",
       "   ':smiling_face_with_heart-eyes:']),\n",
       " (':clapping_hands:',\n",
       "  [':red_heart:', ':raising_hands:', ':face_with_tears_of_joy:']),\n",
       " (':smiling_face_with_heart-eyes:',\n",
       "  [':red_heart:', ':fire:', ':face_blowing_a_kiss:']),\n",
       " (':winking_face:',\n",
       "  [':red_heart:', ':face_with_tears_of_joy:', ':female_sign:']),\n",
       " (':skull:', [':face_with_tears_of_joy:', ':male_sign:', ':female_sign:']),\n",
       " (':rolling_on_the_floor_laughing:',\n",
       "  [':female_sign:', ':face_with_tears_of_joy:', ':male_sign:']),\n",
       " (':folded_hands:', [':red_heart:', ':raising_hands:', ':flexed_biceps:']),\n",
       " (':person_shrugging:',\n",
       "  [':female_sign:', ':male_sign:', ':face_with_tears_of_joy:']),\n",
       " (':flexed_biceps:', [':folded_hands:', ':fire:', ':red_heart:']),\n",
       " (':weary_face:',\n",
       "  [':female_sign:', ':red_heart:', ':face_with_tears_of_joy:']),\n",
       " (':person_facepalming:',\n",
       "  [':male_sign:', ':female_sign:', ':face_with_tears_of_joy:'])]"
      ]
     },
     "execution_count": 61,
     "metadata": {},
     "output_type": "execute_result"
    }
   ],
   "source": [
    "from itertools import combinations\n",
    "\n",
    "emojis = df.select('emoji')\n",
    "\n",
    "def split_arr(line):\n",
    "    res = []\n",
    "    \n",
    "    words = line.emoji.split(\" \")\n",
    "    for word in words:\n",
    "        tmp = word.split(',')[0]\n",
    "        res.append(tmp)\n",
    "    return res\n",
    "\n",
    "def combination(line):\n",
    "    combs = list(combinations(line, 2))\n",
    "    res = []\n",
    "    for comb in combs:\n",
    "        if comb[0] != comb[1]:\n",
    "            res.append(comb)\n",
    "            res.append((comb[1], comb[0]))\n",
    "    return res\n",
    "\n",
    "emojis_comb = emojis.rdd.map(split_arr) \\\n",
    "        .filter(lambda x: len(x) > 1) \\\n",
    "        .map(combination) \\\n",
    "        .flatMap(lambda x: x) \\\n",
    "        .map(lambda x: (x, 1)) \\\n",
    "        .reduceByKey(add) \\\n",
    "        .map(lambda x: (x[0][0], (x[0][1], x[1]))) \n",
    "\n",
    "def sort_func(x):\n",
    "    return x[1]\n",
    "\n",
    "def top_3(line):\n",
    "    candidate = list(line[1])\n",
    "    sort_candidate = sorted(candidate, key=sort_func, reverse=True)\n",
    "    res = []\n",
    "    count = 0\n",
    "    while count < 3 and count < len(sort_candidate):\n",
    "        res.append(sort_candidate[count][0])\n",
    "        count += 1\n",
    "    \n",
    "    return (line[0], res)\n",
    "\n",
    "result = emojis_comb.groupByKey() \\\n",
    "        .map(top_3) \\\n",
    "\n",
    "result.take(20)\n",
    "\n",
    "# for v, k in result:\n",
    "#     print(\"{} {}\".format(v, k))"
   ]
  },
  {
   "cell_type": "markdown",
   "metadata": {},
   "source": [
    "## For every emoji, determine it is used more with words begin with lower case or word begin with upper case."
   ]
  },
  {
   "cell_type": "code",
   "execution_count": 9,
   "metadata": {
    "scrolled": false
   },
   "outputs": [
    {
     "data": {
      "text/plain": [
       "[(':face_with_tears_of_joy:', 'lower'),\n",
       " (':backhand_index_pointing_down:', 'lower'),\n",
       " (':loudly_crying_face:', 'lower'),\n",
       " (':smiling_face:', 'lower'),\n",
       " (':heart_suit:', 'lower'),\n",
       " (':face_with_rolling_eyes:', 'lower'),\n",
       " (':eyes:', 'lower'),\n",
       " (':right_arrow:', 'upper'),\n",
       " (':OK_hand:', 'lower'),\n",
       " (':beaming_face_with_smiling_eyes:', 'lower'),\n",
       " (':person_shrugging:', 'lower'),\n",
       " (':person_facepalming:', 'lower'),\n",
       " (':smiling_face_with_heart-eyes:', 'lower'),\n",
       " (':clapping_hands:', 'lower'),\n",
       " (':weary_face:', 'lower'),\n",
       " (':folded_hands:', 'lower'),\n",
       " (':rolling_on_the_floor_laughing:', 'lower'),\n",
       " (':flexed_biceps:', 'lower'),\n",
       " (':winking_face:', 'lower'),\n",
       " (':skull:', 'lower'),\n",
       " (':party_popper:', 'upper'),\n",
       " (':male_sign:', 'upper')]"
      ]
     },
     "execution_count": 9,
     "metadata": {},
     "output_type": "execute_result"
    }
   ],
   "source": [
    "def check_case(line):\n",
    "    res = []\n",
    "    sentence = line.sentence.split(' ')\n",
    "    emojis = line.emoji.split(' ')\n",
    "    \n",
    "    for emoji in emojis:\n",
    "        e, place = emoji.split(',')\n",
    "        word = sentence[int(place)-1]\n",
    "\n",
    "        if word[0].isupper():\n",
    "            res.append((e, 1))\n",
    "        elif word[0].islower():\n",
    "            res.append((e, -1))\n",
    "        else:\n",
    "            res.append((e, 0))\n",
    "    return res\n",
    "\n",
    "def lower_or_upper(line):\n",
    "    word, fre = line[0], line[1]\n",
    "    if fre < 0:\n",
    "        return (word, 'lower')\n",
    "    else:\n",
    "        return (word, 'upper')\n",
    "\n",
    "result = df.rdd.map(check_case) \\\n",
    "        .flatMap(lambda x: x) \\\n",
    "        .reduceByKey(add) \\\n",
    "        .map(lower_or_upper)\n",
    "\n",
    "result.take(22)"
   ]
  },
  {
   "cell_type": "markdown",
   "metadata": {},
   "source": [
    "## Find the average of the number of emoji used in a sentence."
   ]
  },
  {
   "cell_type": "code",
   "execution_count": 12,
   "metadata": {},
   "outputs": [
    {
     "data": {
      "text/plain": [
       "[(1, 1299368),\n",
       " (2, 191538),\n",
       " (3, 52918),\n",
       " (4, 19750),\n",
       " (5, 6993),\n",
       " (6, 3593),\n",
       " (7, 1714),\n",
       " (8, 1074),\n",
       " (9, 769),\n",
       " (10, 415)]"
      ]
     },
     "execution_count": 12,
     "metadata": {},
     "output_type": "execute_result"
    }
   ],
   "source": [
    "emojis = df.select('emoji')\n",
    "def cal_count(line):\n",
    "    res = 0\n",
    "    \n",
    "    words = line.emoji.split(\" \")\n",
    "    for word in words:\n",
    "        res += 1\n",
    "    return res\n",
    "\n",
    "emojis_count = emojis.rdd.map(cal_count)\n",
    "emojis_mapped = emojis_count.map(lambda x: (x, 1))\n",
    "total_count = emojis_mapped.reduceByKey(add).sortByKey()\n",
    "total_count.take(10)"
   ]
  },
  {
   "cell_type": "markdown",
   "metadata": {},
   "source": [
    "## For every emoji, ﬁnd the position (head, middle, end) that the emoji occurs most in a sentence."
   ]
  },
  {
   "cell_type": "code",
   "execution_count": null,
   "metadata": {},
   "outputs": [],
   "source": [
    "def position(line):\n",
    "    sentence = line.sentence.split(' ')\n",
    "    emojis = line.emoji.split(' ')\n",
    "    \n",
    "    sentence_length = len(sentence)\n",
    "    res = []\n",
    "    \n",
    "    for emoji in emojis:\n",
    "        e, place = emoji.split(',')\n",
    "        if int(place)/sentence_length < 1/3:\n",
    "            res.append((e, 0))\n",
    "        elif int(place)/sentence_length > 2/3:\n",
    "            res.append((e, 2))\n",
    "        else:\n",
    "            res.append((e, 1))\n",
    "    return res\n",
    "\n",
    "def sort_func(x):\n",
    "    return x[1]\n",
    "\n",
    "def most_position(line):\n",
    "    positions = list(line[1])\n",
    "    positions_sort = sorted(positions, key=sort_func, reverse=True)\n",
    "    \n",
    "    return (line[0], positions_sort[0][0])\n",
    "\n",
    "\n",
    "position = df.rdd.map(position) \\\n",
    "            .flatMap(lambda x: x) \\\n",
    "            .map(lambda x: ((x[0], x[1]), 1)) \\\n",
    "            .reduceByKey(add) \\\n",
    "            .map(lambda x: (x[0][0], (x[0][1], x[1]))) \\\n",
    "            .groupByKey() \\\n",
    "            .map(most_position)\n",
    "\n",
    "position.take(3)"
   ]
  },
  {
   "cell_type": "markdown",
   "metadata": {},
   "source": [
    "## Analyze the relation between the length of sentence and the number of emoji used in the sentence."
   ]
  },
  {
   "cell_type": "code",
   "execution_count": 16,
   "metadata": {},
   "outputs": [
    {
     "data": {
      "text/plain": [
       "[((5, 1), 110363),\n",
       " ((6, 1), 110027),\n",
       " ((6, 2), 6169),\n",
       " ((7, 1), 102133),\n",
       " ((7, 2), 8122),\n",
       " ((7, 3), 1099),\n",
       " ((8, 1), 96853),\n",
       " ((8, 2), 8779),\n",
       " ((8, 3), 2155),\n",
       " ((8, 4), 243)]"
      ]
     },
     "execution_count": 16,
     "metadata": {},
     "output_type": "execute_result"
    }
   ],
   "source": [
    "def length_relation(line):\n",
    "    \n",
    "    sentence = line.sentence.split(' ')\n",
    "    emojis = line.emoji.split(' ')\n",
    "    \n",
    "    sentence_length = len(sentence)\n",
    "    emojis_length = len(emojis)\n",
    "    return (sentence_length, emojis_length)\n",
    "\n",
    "length = df.rdd.map(length_relation)\n",
    "length_mapped = length.map(lambda x: (x, 1))\n",
    "relation = length_mapped.reduceByKey(add).sortByKey()\n",
    "\n",
    "relation.take(10)"
   ]
  },
  {
   "cell_type": "markdown",
   "metadata": {},
   "source": [
    "## For every emoji, summarize the frequency that it could be used more than once in a sentence.\n",
    "\n",
    "If the times that it used more than once, we consider it equally."
   ]
  },
  {
   "cell_type": "code",
   "execution_count": 31,
   "metadata": {},
   "outputs": [
    {
     "data": {
      "text/plain": [
       "[(':face_with_tears_of_joy:', 5458),\n",
       " (':OK_hand:', 945),\n",
       " (':loudly_crying_face:', 2032)]"
      ]
     },
     "execution_count": 31,
     "metadata": {},
     "output_type": "execute_result"
    }
   ],
   "source": [
    "emojis = df.select(\"emoji\")\n",
    "\n",
    "def split_arr(line):\n",
    "    dict_ = collections.defaultdict(int)\n",
    "    res = []\n",
    "    words = line.emoji.split(\" \")\n",
    "    for word in words:\n",
    "        tmp = word.split(',')[0]\n",
    "        dict_[tmp] += 1\n",
    "    \n",
    "    for k, v in dict_.items():\n",
    "        if v > 1:\n",
    "            res.append(k)\n",
    "    return res\n",
    "\n",
    "emojis = emojis.rdd.map(split_arr)\n",
    "emojis_filter = emojis.filter(lambda x: len(x) > 0) \\\n",
    "                .flatMap(lambda x: x) \\\n",
    "                .map(lambda x: (x, 1)) \\\n",
    "                .reduceByKey(add)\n",
    "\n",
    "emojis_filter.take(3)"
   ]
  },
  {
   "cell_type": "markdown",
   "metadata": {},
   "source": [
    "## For every emoji, ﬁnd the average word length in the sentences that contain it."
   ]
  },
  {
   "cell_type": "code",
   "execution_count": 41,
   "metadata": {},
   "outputs": [
    {
     "data": {
      "text/plain": [
       "[(':face_with_tears_of_joy:', 13.0),\n",
       " (':face_with_rolling_eyes:', 14.0),\n",
       " (':loudly_crying_face:', 13.0),\n",
       " (':backhand_index_pointing_down:', 17.0),\n",
       " (':beaming_face_with_smiling_eyes:', 13.0),\n",
       " (':OK_hand:', 13.0),\n",
       " (':eyes:', 13.0),\n",
       " (':right_arrow:', 17.0),\n",
       " (':smiling_face:', 14.0),\n",
       " (':heart_suit:', 16.0)]"
      ]
     },
     "execution_count": 41,
     "metadata": {},
     "output_type": "execute_result"
    }
   ],
   "source": [
    "def average_length(line):\n",
    "    res = []\n",
    "    sentence = line.sentence.split(' ')\n",
    "    sentence_length = len(sentence)\n",
    "    \n",
    "    emojis = line.emoji.split(' ')\n",
    "    for emoji in emojis:\n",
    "        tmp = emoji.split(',')[0]\n",
    "        res.append((tmp, sentence_length))\n",
    "    return res\n",
    "    \n",
    "emojis_ave = df.rdd.map(average_length) \\\n",
    "            .flatMap(lambda x: x) \\\n",
    "            .map(lambda x: (x, 1)) \\\n",
    "            .reduceByKey(add)\n",
    "\n",
    "# emojis_ave.take(3)\n",
    "\n",
    "sentences_count = emojis_ave.map(lambda x: (x[0][0], x[1])) \\\n",
    "                    .reduceByKey(add)\n",
    "\n",
    "# sentences_count.take(3)\n",
    "\n",
    "words_count = emojis_ave.map(lambda x: (x[0][0], x[0][1]*x[1])) \\\n",
    "                    .reduceByKey(add)\n",
    "# words_count.take(3)\n",
    "\n",
    "ave_result = sentences_count.join(words_count) \\\n",
    "            .map(lambda x: (x[0], round(x[1][1] / x[1][0], 0)))\n",
    "\n",
    "ave_result.take(10)"
   ]
  }
 ],
 "metadata": {
  "kernelspec": {
   "display_name": "Python 3",
   "language": "python",
   "name": "python3"
  },
  "language_info": {
   "codemirror_mode": {
    "name": "ipython",
    "version": 3
   },
   "file_extension": ".py",
   "mimetype": "text/x-python",
   "name": "python",
   "nbconvert_exporter": "python",
   "pygments_lexer": "ipython3",
   "version": "3.7.4"
  }
 },
 "nbformat": 4,
 "nbformat_minor": 2
}
