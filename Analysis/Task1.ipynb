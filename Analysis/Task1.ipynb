{
 "cells": [
  {
   "cell_type": "code",
   "execution_count": 4,
   "metadata": {},
   "outputs": [],
   "source": [
    "import os\n",
    "import collections\n",
    "\n",
    "from pyspark.sql import SparkSession\n",
    "from operator import add"
   ]
  },
  {
   "cell_type": "code",
   "execution_count": 5,
   "metadata": {},
   "outputs": [],
   "source": [
    "spark = SparkSession \\\n",
    "    .builder \\\n",
    "    .appName(\"myApp\") \\\n",
    "    .config(\"spark.mongodb.input.uri\", \"mongodb://127.0.0.1/bigdata.raw\") \\\n",
    "    .config(\"spark.mongodb.output.uri\", \"mongodb://127.0.0.1/bigdata.t1\") \\\n",
    "    .config('spark.jars.packages', 'org.mongodb.spark:mongo-spark-connector_2.11:2.3.1')\\\n",
    "    .getOrCreate()"
   ]
  },
  {
   "cell_type": "code",
   "execution_count": 6,
   "metadata": {},
   "outputs": [
    {
     "name": "stdout",
     "output_type": "stream",
     "text": [
      "+--------------------+--------------------+--------------------+\n",
      "|                 _id|               emoji|            sentence|\n",
      "+--------------------+--------------------+--------------------+\n",
      "|[5ea4eddb59a37f98...|      :red_heart:,18|No object is so b...|\n",
      "|[5ea4eddb59a37f98...|:person_shrugging...|Cant expect diffe...|\n",
      "|[5ea4eddb59a37f98...|:face_with_tears_...|“ Lets go Marcus ...|\n",
      "|[5ea4eddb59a37f98...|:face_with_tears_...|Asahd really is a...|\n",
      "|[5ea4eddb59a37f98...|:face_with_tears_...|Yoongi Tweet Hell...|\n",
      "|[5ea4eddb59a37f98...|:backhand_index_p...|we cannot afford ...|\n",
      "|[5ea4eddb59a37f98...|:party_popper:,8 ...|ranks 6th in Janu...|\n",
      "|[5ea4eddb59a37f98...|:person_facepalmi...|Ok people are rea...|\n",
      "|[5ea4eddb59a37f98...|:smiling_face_wit...|Cant wait to meet...|\n",
      "|[5ea4eddb59a37f98...| :clapping_hands:,11|Congratulations M...|\n",
      "|[5ea4eddb59a37f98...|:face_with_tears_...|Met orlando brown...|\n",
      "|[5ea4eddb59a37f98...|      :weary_face:,4|Im goin to bed :w...|\n",
      "|[5ea4eddb59a37f98...|  :clapping_hands:,9|Will and Jada on ...|\n",
      "|[5ea4eddb59a37f98...|:person_shrugging...|EVERYBODY is preg...|\n",
      "|[5ea4eddb59a37f98...|       :male_sign:,8|I promise to fuck...|\n",
      "|[5ea4eddb59a37f98...|    :folded_hands:,3|God keep working ...|\n",
      "|[5ea4eddb59a37f98...|    :party_popper:,4|Happy Birthday to...|\n",
      "|[5ea4eddb59a37f98...|  :hundred_points:,8|Over 3M Dollars i...|\n",
      "|[5ea4eddb59a37f98...|:loudly_crying_fa...|I be considering ...|\n",
      "|[5ea4eddb59a37f98...|:rolling_on_the_f...|My teacher gave s...|\n",
      "+--------------------+--------------------+--------------------+\n",
      "only showing top 20 rows\n",
      "\n"
     ]
    }
   ],
   "source": [
    "df = spark.read.format(\"com.mongodb.spark.sql.DefaultSource\").load()\n",
    "df = df.limit(100000)\n",
    "df.show()"
   ]
  },
  {
   "cell_type": "markdown",
   "metadata": {},
   "source": [
    "## Find the appearance frequency of every emoji."
   ]
  },
  {
   "cell_type": "code",
   "execution_count": 7,
   "metadata": {},
   "outputs": [
    {
     "data": {
      "text/plain": [
       "[(':face_with_tears_of_joy:', 19559),\n",
       " (':red_heart:', 11474),\n",
       " (':loudly_crying_face:', 7697),\n",
       " (':fire:', 6155),\n",
       " (':smiling_face_with_heart-eyes:', 5732),\n",
       " (':female_sign:', 4648),\n",
       " (':clapping_hands:', 3631),\n",
       " (':folded_hands:', 3438),\n",
       " (':male_sign:', 3400),\n",
       " (':backhand_index_pointing_right:', 2706)]"
      ]
     },
     "execution_count": 7,
     "metadata": {},
     "output_type": "execute_result"
    }
   ],
   "source": [
    "emojis = df.select('emoji')\n",
    "# emojis.show()\n",
    "def split_str(line):\n",
    "    res = []\n",
    "    \n",
    "    words = line.emoji.split(\" \")\n",
    "    for word in words:\n",
    "        tmp = word.split(',')[0]\n",
    "        res.append(tmp)\n",
    "    return \" \".join(res)\n",
    "\n",
    "result = emojis.rdd.map(split_str) \\\n",
    "        .flatMap(lambda x: x.split(\" \")) \\\n",
    "        .map(lambda x: (x, 1)) \\\n",
    "        .reduceByKey(add) \\\n",
    "        .sortBy(lambda x: x[1], ascending= False) \n",
    "\n",
    "result.take(10)"
   ]
  },
  {
   "cell_type": "code",
   "execution_count": 9,
   "metadata": {},
   "outputs": [
    {
     "name": "stdout",
     "output_type": "stream",
     "text": [
      "+--------------------+-----+\n",
      "|               emoji|  fre|\n",
      "+--------------------+-----+\n",
      "|:face_with_tears_...|19559|\n",
      "|         :red_heart:|11474|\n",
      "|:loudly_crying_face:| 7697|\n",
      "|              :fire:| 6155|\n",
      "|:smiling_face_wit...| 5732|\n",
      "|       :female_sign:| 4648|\n",
      "|    :clapping_hands:| 3631|\n",
      "|      :folded_hands:| 3438|\n",
      "|         :male_sign:| 3400|\n",
      "|:backhand_index_p...| 2706|\n",
      "|        :weary_face:| 2688|\n",
      "|  :person_shrugging:| 2598|\n",
      "|        :two_hearts:| 2530|\n",
      "|:smiling_face_wit...| 2397|\n",
      "|          :sparkles:| 2351|\n",
      "|     :raising_hands:| 2252|\n",
      "|:person_facepalming:| 2235|\n",
      "|    :hundred_points:| 2076|\n",
      "|     :thinking_face:| 2000|\n",
      "|:double_exclamati...| 1781|\n",
      "+--------------------+-----+\n",
      "only showing top 20 rows\n",
      "\n"
     ]
    }
   ],
   "source": [
    "result = result.toDF()\n",
    "result = result.selectExpr(\"_1 as emoji\", \"_2 as fre\")\n",
    "result.show()"
   ]
  },
  {
   "cell_type": "code",
   "execution_count": 10,
   "metadata": {},
   "outputs": [],
   "source": [
    "result.write.format(\"com.mongodb.spark.sql.DefaultSource\").mode(\"append\").save()"
   ]
  },
  {
   "cell_type": "code",
   "execution_count": null,
   "metadata": {},
   "outputs": [],
   "source": []
  }
 ],
 "metadata": {
  "kernelspec": {
   "display_name": "Python 3",
   "language": "python",
   "name": "python3"
  },
  "language_info": {
   "codemirror_mode": {
    "name": "ipython",
    "version": 3
   },
   "file_extension": ".py",
   "mimetype": "text/x-python",
   "name": "python",
   "nbconvert_exporter": "python",
   "pygments_lexer": "ipython3",
   "version": "3.7.4"
  }
 },
 "nbformat": 4,
 "nbformat_minor": 2
}
