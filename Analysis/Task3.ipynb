{
 "cells": [
  {
   "cell_type": "code",
   "execution_count": 1,
   "metadata": {},
   "outputs": [],
   "source": [
    "import os\n",
    "import collections\n",
    "\n",
    "from pyspark.sql import SparkSession\n",
    "from operator import add\n",
    "\n",
    "spark = SparkSession \\\n",
    "    .builder \\\n",
    "    .appName(\"myApp\") \\\n",
    "    .config(\"spark.mongodb.input.uri\", \"mongodb://127.0.0.1/bigdata.raw\") \\\n",
    "    .config(\"spark.mongodb.output.uri\", \"mongodb://127.0.0.1/bigdata.t3\") \\\n",
    "    .config('spark.jars.packages', 'org.mongodb.spark:mongo-spark-connector_2.11:2.3.1')\\\n",
    "    .getOrCreate()"
   ]
  },
  {
   "cell_type": "code",
   "execution_count": 2,
   "metadata": {},
   "outputs": [
    {
     "name": "stdout",
     "output_type": "stream",
     "text": [
      "+--------------------+--------------------+--------------------+\n",
      "|                 _id|               emoji|            sentence|\n",
      "+--------------------+--------------------+--------------------+\n",
      "|[5ea4eddb59a37f98...|      :red_heart:,18|No object is so b...|\n",
      "|[5ea4eddb59a37f98...|:person_shrugging...|Cant expect diffe...|\n",
      "|[5ea4eddb59a37f98...|:face_with_tears_...|“ Lets go Marcus ...|\n",
      "|[5ea4eddb59a37f98...|:face_with_tears_...|Asahd really is a...|\n",
      "|[5ea4eddb59a37f98...|:face_with_tears_...|Yoongi Tweet Hell...|\n",
      "|[5ea4eddb59a37f98...|:backhand_index_p...|we cannot afford ...|\n",
      "|[5ea4eddb59a37f98...|:party_popper:,8 ...|ranks 6th in Janu...|\n",
      "|[5ea4eddb59a37f98...|:person_facepalmi...|Ok people are rea...|\n",
      "|[5ea4eddb59a37f98...|:smiling_face_wit...|Cant wait to meet...|\n",
      "|[5ea4eddb59a37f98...| :clapping_hands:,11|Congratulations M...|\n",
      "|[5ea4eddb59a37f98...|:face_with_tears_...|Met orlando brown...|\n",
      "|[5ea4eddb59a37f98...|      :weary_face:,4|Im goin to bed :w...|\n",
      "|[5ea4eddb59a37f98...|  :clapping_hands:,9|Will and Jada on ...|\n",
      "|[5ea4eddb59a37f98...|:person_shrugging...|EVERYBODY is preg...|\n",
      "|[5ea4eddb59a37f98...|       :male_sign:,8|I promise to fuck...|\n",
      "|[5ea4eddb59a37f98...|    :folded_hands:,3|God keep working ...|\n",
      "|[5ea4eddb59a37f98...|    :party_popper:,4|Happy Birthday to...|\n",
      "|[5ea4eddb59a37f98...|  :hundred_points:,8|Over 3M Dollars i...|\n",
      "|[5ea4eddb59a37f98...|:loudly_crying_fa...|I be considering ...|\n",
      "|[5ea4eddb59a37f98...|:rolling_on_the_f...|My teacher gave s...|\n",
      "+--------------------+--------------------+--------------------+\n",
      "only showing top 20 rows\n",
      "\n"
     ]
    }
   ],
   "source": [
    "df = spark.read.format(\"com.mongodb.spark.sql.DefaultSource\").load()\n",
    "df = df.limit(100000)\n",
    "df.show()"
   ]
  },
  {
   "cell_type": "markdown",
   "metadata": {},
   "source": [
    "## For every emoji, determine it is used more with words begin with lower case or word begin with upper case."
   ]
  },
  {
   "cell_type": "code",
   "execution_count": 3,
   "metadata": {},
   "outputs": [
    {
     "data": {
      "text/plain": [
       "[(':red_heart:', 2315, 5469),\n",
       " (':person_shrugging:', 226, 2081),\n",
       " (':female_sign:', 119, 61),\n",
       " (':face_with_tears_of_joy:', 2809, 15592),\n",
       " (':backhand_index_pointing_down:', 306, 607),\n",
       " (':party_popper:', 771, 532),\n",
       " (':person_facepalming:', 231, 1627),\n",
       " (':smiling_face_with_heart-eyes:', 1216, 4118),\n",
       " (':clapping_hands:', 827, 1289),\n",
       " (':weary_face:', 322, 2248)]"
      ]
     },
     "execution_count": 3,
     "metadata": {},
     "output_type": "execute_result"
    }
   ],
   "source": [
    "def check_case(line):\n",
    "    res = []\n",
    "    sentence = line.sentence.split(' ')\n",
    "    emojis = line.emoji.split(' ')\n",
    "    \n",
    "    for emoji in emojis:\n",
    "        e, place = emoji.split(',')\n",
    "        word = sentence[int(place)-1]\n",
    "\n",
    "        if word[0].isupper():\n",
    "            res.append((e, (1, 0)))\n",
    "        elif word[0].islower():\n",
    "            res.append((e, (0, 1)))\n",
    "        else:\n",
    "            res.append((e, (0, 0)))\n",
    "    return res\n",
    "\n",
    "\n",
    "result = df.rdd.map(check_case) \\\n",
    "        .flatMap(lambda x: x) \\\n",
    "\n",
    "upper = result.map(lambda x: (x[0], x[1][0])) \\\n",
    "                .reduceByKey(add)\n",
    "\n",
    "lower = result.map(lambda x: (x[0], x[1][1])) \\\n",
    "                .reduceByKey(add) \n",
    "\n",
    "result = upper.join(lower) \\\n",
    "                .map(lambda x: (x[0], x[1][0], x[1][1]))\n",
    "\n",
    "result.take(10)"
   ]
  },
  {
   "cell_type": "code",
   "execution_count": 4,
   "metadata": {},
   "outputs": [
    {
     "name": "stdout",
     "output_type": "stream",
     "text": [
      "+--------------------+-----+-----+\n",
      "|               emoji|upper|lower|\n",
      "+--------------------+-----+-----+\n",
      "|         :red_heart:| 2315| 5469|\n",
      "|  :person_shrugging:|  226| 2081|\n",
      "|       :female_sign:|  119|   61|\n",
      "|:face_with_tears_...| 2809|15592|\n",
      "|:backhand_index_p...|  306|  607|\n",
      "|      :party_popper:|  771|  532|\n",
      "|:person_facepalming:|  231| 1627|\n",
      "|:smiling_face_wit...| 1216| 4118|\n",
      "|    :clapping_hands:|  827| 1289|\n",
      "|        :weary_face:|  322| 2248|\n",
      "|         :male_sign:|  121|   47|\n",
      "|:loudly_crying_face:| 1399| 5868|\n",
      "|      :folded_hands:|  734| 1977|\n",
      "|    :hundred_points:|  464| 1246|\n",
      "|:rolling_on_the_f...|  257| 1369|\n",
      "|     :flexed_biceps:|  336|  925|\n",
      "|:backhand_index_p...| 1039| 1051|\n",
      "|       :crying_face:|  154|  701|\n",
      "|      :purple_heart:|  388|  966|\n",
      "|      :yellow_heart:|  183|  509|\n",
      "+--------------------+-----+-----+\n",
      "only showing top 20 rows\n",
      "\n"
     ]
    }
   ],
   "source": [
    "result = result.toDF()\n",
    "result = result.selectExpr(\"_1 as emoji\", \"_2 as upper\", \"_3 as lower\")\n",
    "result.show()"
   ]
  },
  {
   "cell_type": "code",
   "execution_count": 5,
   "metadata": {},
   "outputs": [],
   "source": [
    "result.write.format(\"com.mongodb.spark.sql.DefaultSource\").mode(\"append\").save()"
   ]
  },
  {
   "cell_type": "code",
   "execution_count": null,
   "metadata": {},
   "outputs": [],
   "source": []
  }
 ],
 "metadata": {
  "kernelspec": {
   "display_name": "Python 3",
   "language": "python",
   "name": "python3"
  },
  "language_info": {
   "codemirror_mode": {
    "name": "ipython",
    "version": 3
   },
   "file_extension": ".py",
   "mimetype": "text/x-python",
   "name": "python",
   "nbconvert_exporter": "python",
   "pygments_lexer": "ipython3",
   "version": "3.7.4"
  }
 },
 "nbformat": 4,
 "nbformat_minor": 2
}
