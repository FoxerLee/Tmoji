{
 "cells": [
  {
   "cell_type": "code",
   "execution_count": 1,
   "metadata": {},
   "outputs": [],
   "source": [
    "from pymongo import MongoClient\n",
    "from pyspark import SparkContext\n",
    "from pyspark.sql import SparkSession\n",
    "import pyspark.sql.functions as F"
   ]
  },
  {
   "cell_type": "code",
   "execution_count": 2,
   "metadata": {},
   "outputs": [],
   "source": [
    "spark = SparkSession \\\n",
    "    .builder \\\n",
    "    .appName(\"myApp\") \\\n",
    "    .config(\"spark.mongodb.input.uri\", \"mongodb://127.0.0.1/bigdata.raw\") \\\n",
    "    .config(\"spark.mongodb.output.uri\", \"mongodb://127.0.0.1/bigdata.pairWise\") \\\n",
    "    .config('spark.jars.packages', 'org.mongodb.spark:mongo-spark-connector_2.11:2.3.1')\\\n",
    "    .getOrCreate()"
   ]
  },
  {
   "cell_type": "code",
   "execution_count": 3,
   "metadata": {},
   "outputs": [],
   "source": [
    "df = spark.read.format(\"com.mongodb.spark.sql.DefaultSource\").load()"
   ]
  },
  {
   "cell_type": "code",
   "execution_count": 10,
   "metadata": {},
   "outputs": [],
   "source": [
    "df = df.select(\"emoji\", \"sentence\")"
   ]
  },
  {
   "cell_type": "code",
   "execution_count": 11,
   "metadata": {},
   "outputs": [],
   "source": [
    "def divide_emoji(x):\n",
    "    return x.split(\" \")\n",
    "\n",
    "def formed_(x):\n",
    "    result = []\n",
    "    for emoji in x[0]:\n",
    "        result.append([emoji, x[1]])\n",
    "    return result\n",
    "\n",
    "def separate_emoji(x):\n",
    "    temp = x.split(',')\n",
    "    return temp[0]\n",
    "\n",
    "def separate_position(x):\n",
    "    temp = x.split(',')\n",
    "    return temp[1]"
   ]
  },
  {
   "cell_type": "code",
   "execution_count": 12,
   "metadata": {},
   "outputs": [
    {
     "data": {
      "text/plain": [
       "[(':sparkling_heart:', 6, 'One of the things Ive waited :sparkling_heart:'),\n",
       " (':face_with_tears_of_joy:',\n",
       "  13,\n",
       "  'This video must confuse the crap out of liberals Who do they defend :face_with_tears_of_joy:'),\n",
       " (':face_with_tears_of_joy:',\n",
       "  5,\n",
       "  'Stalin Atrocities Lollu Sabha Mix :face_with_tears_of_joy: Dedicated to all உப ி ஸ ் in the social media :folded_hands: 🏼'),\n",
       " (':folded_hands:',\n",
       "  16,\n",
       "  'Stalin Atrocities Lollu Sabha Mix :face_with_tears_of_joy: Dedicated to all உப ி ஸ ் in the social media :folded_hands: 🏼'),\n",
       " (':face_with_tears_of_joy:',\n",
       "  18,\n",
       "  'I only use dpns now for icord and thumbs or if I cant find a long enough circ :face_with_tears_of_joy: Too many WIPs around')]"
      ]
     },
     "execution_count": 12,
     "metadata": {},
     "output_type": "execute_result"
    }
   ],
   "source": [
    "rdd = df.rdd.map(list)\n",
    "rdd = rdd.map(lambda x: (divide_emoji(x[0]), x[1]))\n",
    "rdd = rdd.flatMap(lambda x: formed_(x))\n",
    "rdd = rdd.map(lambda x: (separate_emoji(x[0]), int(separate_position(x[0])), x[1]))\n",
    "rdd.take(5)"
   ]
  },
  {
   "cell_type": "code",
   "execution_count": 13,
   "metadata": {},
   "outputs": [],
   "source": [
    "def get_pair(x):\n",
    "    pos = x[1]\n",
    "    sentence = x[2]\n",
    "    words = sentence.split(' ')\n",
    "    word =''.join(ch for ch in words[pos-1] if ch.isalpha())\n",
    "    word = word.lower()\n",
    "    pair = (word, words[pos])\n",
    "    return pair\n",
    "\n",
    "def pair_frequency(x):\n",
    "    pair_freq = {}\n",
    "    emoji = x[0]\n",
    "    pairs = x[1]\n",
    "    for ele in pairs:\n",
    "        if ele[1] != emoji or ele[0]=='':\n",
    "            continue\n",
    "        if ele in pair_freq:\n",
    "            pair_freq[ele] += 1\n",
    "        else:\n",
    "            pair_freq[ele] = 1\n",
    "    result = list(pair_freq.items())\n",
    "    result.sort(key = lambda x: x[1], reverse=True)\n",
    "    return result"
   ]
  },
  {
   "cell_type": "code",
   "execution_count": 23,
   "metadata": {},
   "outputs": [
    {
     "data": {
      "text/plain": [
       "[(':face_with_tears_of_joy:',\n",
       "  [(('defend', ':face_with_tears_of_joy:'), 1),\n",
       "   (('mix', ':face_with_tears_of_joy:'), 1),\n",
       "   (('circ', ':face_with_tears_of_joy:'), 1),\n",
       "   (('forward', ':face_with_tears_of_joy:'), 1),\n",
       "   (('like', ':face_with_tears_of_joy:'), 1),\n",
       "   (('show', ':face_with_tears_of_joy:'), 1),\n",
       "   (('time', ':face_with_tears_of_joy:'), 1),\n",
       "   (('son', ':face_with_tears_of_joy:'), 1),\n",
       "   (('places', ':face_with_tears_of_joy:'), 1),\n",
       "   (('momma', ':face_with_tears_of_joy:'), 1),\n",
       "   (('loop', ':face_with_tears_of_joy:'), 1),\n",
       "   (('laugh', ':face_with_tears_of_joy:'), 1),\n",
       "   (('min', ':face_with_tears_of_joy:'), 1),\n",
       "   (('through', ':face_with_tears_of_joy:'), 1),\n",
       "   (('etc', ':face_with_tears_of_joy:'), 1)]),\n",
       " (':weary_face:',\n",
       "  [(('things', ':weary_face:'), 1),\n",
       "   (('is', ':weary_face:'), 1),\n",
       "   (('like', ':weary_face:'), 1),\n",
       "   (('piece', ':weary_face:'), 1)])]"
      ]
     },
     "execution_count": 23,
     "metadata": {},
     "output_type": "execute_result"
    }
   ],
   "source": [
    "pairs = rdd.map(lambda x: (x[0], get_pair(x)))\n",
    "group_pairs = pairs.groupBy(lambda x: x[0])\n",
    "group_pairs = group_pairs.map(lambda x: (x[0], list(x[1])))\n",
    "temp = group_pairs.map(lambda x: (x[0], [row[1] for row in x[1]]))\n",
    "result_2 = temp.map(lambda x: (x[0], pair_frequency(x)))\n",
    "result_2 = result_2.filter(lambda x: len(x[1]) != 0)\n",
    "result_2 = result_2.sortBy(lambda x: len(x[1]), ascending = False)\n",
    "result_2.take(2)"
   ]
  },
  {
   "cell_type": "code",
   "execution_count": 24,
   "metadata": {},
   "outputs": [],
   "source": [
    "result_df = result_2.toDF()"
   ]
  },
  {
   "cell_type": "code",
   "execution_count": 25,
   "metadata": {},
   "outputs": [],
   "source": [
    "result_df.write.format(\"com.mongodb.spark.sql.DefaultSource\").mode(\"append\").save()"
   ]
  },
  {
   "cell_type": "code",
   "execution_count": null,
   "metadata": {},
   "outputs": [],
   "source": []
  }
 ],
 "metadata": {
  "kernelspec": {
   "display_name": "Python 3",
   "language": "python",
   "name": "python3"
  },
  "language_info": {
   "codemirror_mode": {
    "name": "ipython",
    "version": 3
   },
   "file_extension": ".py",
   "mimetype": "text/x-python",
   "name": "python",
   "nbconvert_exporter": "python",
   "pygments_lexer": "ipython3",
   "version": "3.7.4"
  }
 },
 "nbformat": 4,
 "nbformat_minor": 2
}
