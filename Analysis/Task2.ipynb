{
 "cells": [
  {
   "cell_type": "code",
   "execution_count": 1,
   "metadata": {},
   "outputs": [],
   "source": [
    "import os\n",
    "import collections\n",
    "\n",
    "from pyspark.sql import SparkSession\n",
    "from operator import add\n",
    "\n",
    "spark = SparkSession \\\n",
    "    .builder \\\n",
    "    .appName(\"myApp\") \\\n",
    "    .config(\"spark.mongodb.input.uri\", \"mongodb://127.0.0.1/bigdata.raw\") \\\n",
    "    .config(\"spark.mongodb.output.uri\", \"mongodb://127.0.0.1/bigdata.t2\") \\\n",
    "    .config('spark.jars.packages', 'org.mongodb.spark:mongo-spark-connector_2.11:2.3.1')\\\n",
    "    .getOrCreate()"
   ]
  },
  {
   "cell_type": "code",
   "execution_count": 2,
   "metadata": {},
   "outputs": [
    {
     "name": "stdout",
     "output_type": "stream",
     "text": [
      "+--------------------+--------------------+--------------------+\n",
      "|                 _id|               emoji|            sentence|\n",
      "+--------------------+--------------------+--------------------+\n",
      "|[5ea4eddb59a37f98...|      :red_heart:,18|No object is so b...|\n",
      "|[5ea4eddb59a37f98...|:person_shrugging...|Cant expect diffe...|\n",
      "|[5ea4eddb59a37f98...|:face_with_tears_...|“ Lets go Marcus ...|\n",
      "|[5ea4eddb59a37f98...|:face_with_tears_...|Asahd really is a...|\n",
      "|[5ea4eddb59a37f98...|:face_with_tears_...|Yoongi Tweet Hell...|\n",
      "|[5ea4eddb59a37f98...|:backhand_index_p...|we cannot afford ...|\n",
      "|[5ea4eddb59a37f98...|:party_popper:,8 ...|ranks 6th in Janu...|\n",
      "|[5ea4eddb59a37f98...|:person_facepalmi...|Ok people are rea...|\n",
      "|[5ea4eddb59a37f98...|:smiling_face_wit...|Cant wait to meet...|\n",
      "|[5ea4eddb59a37f98...| :clapping_hands:,11|Congratulations M...|\n",
      "|[5ea4eddb59a37f98...|:face_with_tears_...|Met orlando brown...|\n",
      "|[5ea4eddb59a37f98...|      :weary_face:,4|Im goin to bed :w...|\n",
      "|[5ea4eddb59a37f98...|  :clapping_hands:,9|Will and Jada on ...|\n",
      "|[5ea4eddb59a37f98...|:person_shrugging...|EVERYBODY is preg...|\n",
      "|[5ea4eddb59a37f98...|       :male_sign:,8|I promise to fuck...|\n",
      "|[5ea4eddb59a37f98...|    :folded_hands:,3|God keep working ...|\n",
      "|[5ea4eddb59a37f98...|    :party_popper:,4|Happy Birthday to...|\n",
      "|[5ea4eddb59a37f98...|  :hundred_points:,8|Over 3M Dollars i...|\n",
      "|[5ea4eddb59a37f98...|:loudly_crying_fa...|I be considering ...|\n",
      "|[5ea4eddb59a37f98...|:rolling_on_the_f...|My teacher gave s...|\n",
      "+--------------------+--------------------+--------------------+\n",
      "only showing top 20 rows\n",
      "\n"
     ]
    }
   ],
   "source": [
    "df = spark.read.format(\"com.mongodb.spark.sql.DefaultSource\").load()\n",
    "df = df.limit(100000)\n",
    "df.show()"
   ]
  },
  {
   "cell_type": "markdown",
   "metadata": {},
   "source": [
    "## For every emoji, ﬁnd the 3 other emojis that are used most frequently with it."
   ]
  },
  {
   "cell_type": "code",
   "execution_count": 3,
   "metadata": {},
   "outputs": [
    {
     "data": {
      "text/plain": [
       "[('others',\n",
       "  ((':female_sign:', 4242),\n",
       "   (':male_sign:', 3278),\n",
       "   (':loudly_crying_face:', 465),\n",
       "   (':backhand_index_pointing_right:', 515),\n",
       "   (':red_heart:', 1956),\n",
       "   (':face_with_tears_of_joy:', 1006),\n",
       "   (':smiling_face_with_heart-eyes:', 634),\n",
       "   (':fire:', 1407),\n",
       "   (':clapping_hands:', 666),\n",
       "   (':folded_hands:', 627))),\n",
       " (':female_sign:',\n",
       "  (('others', 4242),\n",
       "   (':face_with_tears_of_joy:', 526),\n",
       "   (':loudly_crying_face:', 111),\n",
       "   (':male_sign:', 273),\n",
       "   (':red_heart:', 47),\n",
       "   (':smiling_face_with_heart-eyes:', 27),\n",
       "   (':fire:', 29),\n",
       "   (':clapping_hands:', 27),\n",
       "   (':backhand_index_pointing_right:', 62),\n",
       "   (':folded_hands:', 17))),\n",
       " (':male_sign:',\n",
       "  (('others', 3278),\n",
       "   (':loudly_crying_face:', 58),\n",
       "   (':face_with_tears_of_joy:', 416),\n",
       "   (':female_sign:', 273),\n",
       "   (':red_heart:', 22),\n",
       "   (':fire:', 53),\n",
       "   (':folded_hands:', 14),\n",
       "   (':clapping_hands:', 28),\n",
       "   (':smiling_face_with_heart-eyes:', 7),\n",
       "   (':backhand_index_pointing_right:', 26))),\n",
       " (':loudly_crying_face:',\n",
       "  (('others', 465),\n",
       "   (':male_sign:', 58),\n",
       "   (':clapping_hands:', 49),\n",
       "   (':female_sign:', 111),\n",
       "   (':face_with_tears_of_joy:', 99),\n",
       "   (':red_heart:', 331),\n",
       "   (':smiling_face_with_heart-eyes:', 50),\n",
       "   (':backhand_index_pointing_right:', 7),\n",
       "   (':folded_hands:', 54),\n",
       "   (':fire:', 17))),\n",
       " (':backhand_index_pointing_right:',\n",
       "  (('others', 515),\n",
       "   (':red_heart:', 80),\n",
       "   (':fire:', 158),\n",
       "   (':smiling_face_with_heart-eyes:', 58),\n",
       "   (':loudly_crying_face:', 7),\n",
       "   (':female_sign:', 62),\n",
       "   (':clapping_hands:', 8),\n",
       "   (':male_sign:', 26),\n",
       "   (':face_with_tears_of_joy:', 10),\n",
       "   (':folded_hands:', 6)))]"
      ]
     },
     "execution_count": 3,
     "metadata": {},
     "output_type": "execute_result"
    }
   ],
   "source": [
    "from itertools import combinations\n",
    "\n",
    "emojis = df.select('emoji')\n",
    "\n",
    "def split_arr(line):\n",
    "    res = []\n",
    "    \n",
    "    words = line.emoji.split(\" \")\n",
    "    for word in words:\n",
    "        tmp = word.split(',')[0]\n",
    "        res.append(tmp)\n",
    "    return res\n",
    "\n",
    "def combination(line):\n",
    "    combs = list(combinations(line, 2))\n",
    "    res = []\n",
    "    \n",
    "    top10 = [':face_with_tears_of_joy:', ':red_heart:',':loudly_crying_face:', ':fire:', \\\n",
    "             ':smiling_face_with_heart-eyes:', ':female_sign:', ':clapping_hands:', \\\n",
    "             ':folded_hands:', ':male_sign:', ':backhand_index_pointing_right:']\n",
    "    for comb in combs:\n",
    "        p0 = comb[0]\n",
    "        p1 = comb[1]\n",
    "        if p0 not in top10:\n",
    "            p0 = 'others'\n",
    "        if p1 not in top10:\n",
    "            p1 = 'others'\n",
    "    \n",
    "        if p0 != p1:\n",
    "            res.append((p0, p1))\n",
    "            res.append((p1, p0))\n",
    "    return res\n",
    "\n",
    "emojis_comb = emojis.rdd.map(split_arr) \\\n",
    "        .filter(lambda x: len(x) > 1) \\\n",
    "        .map(combination) \\\n",
    "        .flatMap(lambda x: x) \\\n",
    "        .map(lambda x: (x, 1)) \\\n",
    "        .reduceByKey(add) \\\n",
    "        .map(lambda x: (x[0][0], (x[0][1], x[1]))) \n",
    "\n",
    "def sort_func(x):\n",
    "    return x[1]\n",
    "\n",
    "def top_10(line):\n",
    "    candidate = tuple(list(line[1]))\n",
    "    return (line[0], candidate)\n",
    "\n",
    "\n",
    "result = emojis_comb.groupByKey() \\\n",
    "        .map(top_10) \\\n",
    "\n",
    "result.take(5)"
   ]
  },
  {
   "cell_type": "code",
   "execution_count": 4,
   "metadata": {},
   "outputs": [
    {
     "name": "stdout",
     "output_type": "stream",
     "text": [
      "+--------------------+--------------------+\n",
      "|               emoji|                 col|\n",
      "+--------------------+--------------------+\n",
      "|              others|[[:female_sign:, ...|\n",
      "|       :female_sign:|[[others, 4242], ...|\n",
      "|         :male_sign:|[[others, 3278], ...|\n",
      "|:loudly_crying_face:|[[others, 465], [...|\n",
      "|:backhand_index_p...|[[others, 515], [...|\n",
      "|         :red_heart:|[[others, 1956], ...|\n",
      "|:face_with_tears_...|[[:male_sign:, 41...|\n",
      "|:smiling_face_wit...|[[:red_heart:, 33...|\n",
      "|    :clapping_hands:|[[:face_with_tear...|\n",
      "|              :fire:|[[others, 1407], ...|\n",
      "|      :folded_hands:|[[others, 627], [...|\n",
      "+--------------------+--------------------+\n",
      "\n"
     ]
    }
   ],
   "source": [
    "result = result.toDF()\n",
    "result = result.selectExpr(\"_1 as emoji\", \"_2 as col\")\n",
    "result.show()"
   ]
  },
  {
   "cell_type": "code",
   "execution_count": 5,
   "metadata": {},
   "outputs": [],
   "source": [
    "result.write.format(\"com.mongodb.spark.sql.DefaultSource\").mode(\"append\").save()"
   ]
  },
  {
   "cell_type": "code",
   "execution_count": null,
   "metadata": {},
   "outputs": [],
   "source": []
  }
 ],
 "metadata": {
  "kernelspec": {
   "display_name": "Python 3",
   "language": "python",
   "name": "python3"
  },
  "language_info": {
   "codemirror_mode": {
    "name": "ipython",
    "version": 3
   },
   "file_extension": ".py",
   "mimetype": "text/x-python",
   "name": "python",
   "nbconvert_exporter": "python",
   "pygments_lexer": "ipython3",
   "version": "3.7.4"
  }
 },
 "nbformat": 4,
 "nbformat_minor": 2
}
