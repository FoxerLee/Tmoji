{
 "cells": [
  {
   "cell_type": "code",
   "execution_count": 1,
   "metadata": {},
   "outputs": [],
   "source": [
    "import os\n",
    "from pyspark.sql import SparkSession"
   ]
  },
  {
   "cell_type": "code",
   "execution_count": 2,
   "metadata": {},
   "outputs": [],
   "source": [
    "# 创建sparkSession对象\n",
    "spark = SparkSession \\\n",
    "    .builder \\\n",
    "    .appName(\"myApp\") \\\n",
    "    .config(\"spark.mongodb.input.uri\", \"mongodb://127.0.0.1/bigdata.raw\") \\\n",
    "    .config(\"spark.mongodb.output.uri\", \"mongodb://127.0.0.1/bigdata.raw\") \\\n",
    "    .config('spark.jars.packages', 'org.mongodb.spark:mongo-spark-connector_2.11:2.3.1')\\\n",
    "    .getOrCreate()"
   ]
  },
  {
   "cell_type": "code",
   "execution_count": 3,
   "metadata": {},
   "outputs": [
    {
     "name": "stdout",
     "output_type": "stream",
     "text": [
      "+--------------------+--------------------+--------------------+\n",
      "|                 _id|               emoji|            sentence|\n",
      "+--------------------+--------------------+--------------------+\n",
      "|[5ea3880de72822fa...|      :red_heart:,18|No object is so b...|\n",
      "|[5ea3880de72822fa...|:person_shrugging...|Cant expect diffe...|\n",
      "|[5ea3880de72822fa...|:face_with_tears_...|“ Lets go Marcus ...|\n",
      "|[5ea3880de72822fa...|:face_with_tears_...|Asahd really is a...|\n",
      "|[5ea3880de72822fa...|:face_with_tears_...|Yoongi Tweet Hell...|\n",
      "|[5ea3880de72822fa...|:backhand_index_p...|we cannot afford ...|\n",
      "|[5ea3880de72822fa...|:party_popper:,8 ...|ranks 6th in Janu...|\n",
      "|[5ea3880de72822fa...|:person_facepalmi...|Ok people are rea...|\n",
      "|[5ea3880de72822fa...|:smiling_face_wit...|Cant wait to meet...|\n",
      "|[5ea3880de72822fa...| :clapping_hands:,11|Congratulations M...|\n",
      "|[5ea3880de72822fa...|:face_with_tears_...|Met orlando brown...|\n",
      "|[5ea3880de72822fa...|      :weary_face:,4|Im goin to bed :w...|\n",
      "|[5ea3880de72822fa...|  :clapping_hands:,9|Will and Jada on ...|\n",
      "|[5ea3880de72822fa...|:person_shrugging...|EVERYBODY is preg...|\n",
      "|[5ea3880de72822fa...|       :male_sign:,8|I promise to fuck...|\n",
      "|[5ea3880de72822fa...|    :folded_hands:,3|God keep working ...|\n",
      "|[5ea3880de72822fa...|    :party_popper:,4|Happy Birthday to...|\n",
      "|[5ea3880de72822fa...|  :hundred_points:,8|Over 3M Dollars i...|\n",
      "|[5ea3880de72822fa...|:loudly_crying_fa...|I be considering ...|\n",
      "|[5ea3880de72822fa...|:rolling_on_the_f...|My teacher gave s...|\n",
      "+--------------------+--------------------+--------------------+\n",
      "only showing top 20 rows\n",
      "\n"
     ]
    }
   ],
   "source": [
    "df = spark.read.format(\"com.mongodb.spark.sql.DefaultSource\").load()\n",
    "df.show()"
   ]
  },
  {
   "cell_type": "code",
   "execution_count": null,
   "metadata": {},
   "outputs": [],
   "source": []
  },
  {
   "cell_type": "code",
   "execution_count": 7,
   "metadata": {},
   "outputs": [],
   "source": []
  },
  {
   "cell_type": "code",
   "execution_count": 13,
   "metadata": {},
   "outputs": [
    {
     "data": {
      "text/plain": [
       "[':red_heart:', ':person_shrugging: :female_sign:', ':face_with_tears_of_joy:']"
      ]
     },
     "execution_count": 13,
     "metadata": {},
     "output_type": "execute_result"
    }
   ],
   "source": [
    "emoji = \":red_heart:\"\n",
    "emojis = df.select('emoji')\n",
    "# emojis.show()\n",
    "def split(line):\n",
    "    res = []\n",
    "    \n",
    "    words = line.emoji.split(\" \")\n",
    "    for word in words:\n",
    "        tmp = word.split(',')[0]\n",
    "        res.append(tmp)\n",
    "    return \" \".join(res)\n",
    "\n",
    "emojis = emojis.rdd.map(split)\n",
    "emojis.take(3)"
   ]
  }
 ],
 "metadata": {
  "kernelspec": {
   "display_name": "Python 3",
   "language": "python",
   "name": "python3"
  },
  "language_info": {
   "codemirror_mode": {
    "name": "ipython",
    "version": 3
   },
   "file_extension": ".py",
   "mimetype": "text/x-python",
   "name": "python",
   "nbconvert_exporter": "python",
   "pygments_lexer": "ipython3",
   "version": "3.7.4"
  }
 },
 "nbformat": 4,
 "nbformat_minor": 2
}
